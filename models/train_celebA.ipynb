{
 "cells": [
  {
   "cell_type": "code",
   "execution_count": 1,
   "metadata": {},
   "outputs": [
    {
     "name": "stderr",
     "output_type": "stream",
     "text": [
      "/home/hyunjun/anaconda3/envs/test/lib/python3.7/site-packages/torchvision/io/image.py:13: UserWarning: Failed to load image Python extension: /home/hyunjun/anaconda3/envs/test/lib/python3.7/site-packages/torchvision/image.so: undefined symbol: _ZNK3c1010TensorImpl36is_contiguous_nondefault_policy_implENS_12MemoryFormatE\n",
      "  warn(f\"Failed to load image Python extension: {e}\")\n"
     ]
    }
   ],
   "source": [
    "import torch\n",
    "import torch.nn as nn  \n",
    "import torch.nn.functional as F\n",
    "import torch.optim as optim\n",
    "from torch.utils.data import DataLoader, Dataset, random_split\n",
    "import torchvision\n",
    "import torchvision.transforms as transforms\n",
    "import numpy as np\n",
    "import pandas as pd\n",
    "import matplotlib.pyplot as plt\n",
    "from PIL import Image\n",
    "import os\n",
    "from sklearn.metrics import classification_report\n",
    "import ResNet as resnet\n",
    "import DenseNet as densenet\n",
    "import EfficientNet as efficientnet\n",
    "import MobileNetV2 as mobilenet\n",
    "import ViT as vit\n",
    "import solver.solver as solver\n",
    "import solver.solver_v2 as solver_v2\n",
    "import solver.solver_v3 as solver_v3\n",
    "from opacus import PrivacyEngine\n",
    "from opacus.validators import ModuleValidator"
   ]
  },
  {
   "cell_type": "code",
   "execution_count": 2,
   "metadata": {},
   "outputs": [],
   "source": [
    "os.environ[\"CUDA_DEVICE_ORDER\"] = \"PCI_BUS_ID\"\n",
    "os.environ[\"CUDA_VISIBLE_DEVICES\"] = \"3\"\n",
    "\n",
    "device = torch.device('cuda' if torch.cuda.is_available() else 'cpu')\n",
    "\n",
    "n_epochs = 30\n",
    "batch_size = 512\n",
    "learning_rate = 1e-4\n",
    "diff_drop = \"v3\"\n",
    "opacus_baseline = False\n",
    "\n",
    "model = resnet.resnet18(num_classes=8, diff_drop=diff_drop)\n",
    "criterion = nn.CrossEntropyLoss()\n",
    "optimizer = optim.Adam(model.parameters(), lr=learning_rate)"
   ]
  },
  {
   "cell_type": "code",
   "execution_count": 3,
   "metadata": {},
   "outputs": [],
   "source": [
    "dataset_path = \"/media/data2/data/CelebAMask-HQ/CelebA-HQ-img/\"\n",
    "annotation_path = \"/media/data2/data/CelebAMask-HQ/CelebAMask-HQ-attribute-anno.txt\""
   ]
  },
  {
   "cell_type": "code",
   "execution_count": 4,
   "metadata": {},
   "outputs": [],
   "source": [
    "class CelebA(Dataset):\n",
    "    def __init__(self, root, annotation_path, transform=None):\n",
    "        self.transform = transform\n",
    "        self.root_dir = root\n",
    "        self.classes = [\n",
    "            \"Female, Not smiling, Young\", \"Female, Not smiling, Old\", \n",
    "            \"Female, Smiling, Young\", \"Female, Smiling, Old\", \n",
    "            \"Male, Not smiling, Young\", \"Male, Not smiling, Old\", \n",
    "            \"Male, Smiling, Young\", \"Male, Smiling, Old\",\n",
    "        ]\n",
    "        \n",
    "        self.image_paths = []\n",
    "        self.image_labels = []\n",
    "\n",
    "        anno_file = open(annotation_path, \"r\")\n",
    "        num = int(anno_file.readline())\n",
    "    \n",
    "        line = anno_file.readline()\n",
    "        attributes = list(line[:-1].split(' '))\n",
    "        \n",
    "        sex_index = attributes.index('Male') + 2\n",
    "        smile_index = attributes.index('Smiling') + 2\n",
    "        young_index = attributes.index('Young') + 2\n",
    "        for _ in range(num):\n",
    "            line = anno_file.readline()\n",
    "            record = list(line[:-1].split(' '))\n",
    "            self.image_paths.append(record[0])\n",
    "            if record[sex_index] == \"1\":\n",
    "                if record[smile_index] == \"1\":\n",
    "                    if record[young_index] == \"1\":\n",
    "                        self.image_labels.append(6)\n",
    "                    else:\n",
    "                        self.image_labels.append(7)\n",
    "                else:\n",
    "                    if record[young_index] == \"1\":\n",
    "                        self.image_labels.append(4)\n",
    "                    else:\n",
    "                        self.image_labels.append(5)\n",
    "            else:\n",
    "                if record[smile_index] == \"1\":\n",
    "                    if record[young_index] == \"1\":\n",
    "                        self.image_labels.append(2)\n",
    "                    else:\n",
    "                        self.image_labels.append(3)\n",
    "                else:\n",
    "                    if record[young_index] == \"1\":\n",
    "                        self.image_labels.append(0)\n",
    "                    else:\n",
    "                        self.image_labels.append(1)\n",
    "        anno_file.close()\n",
    "        \n",
    "    def __len__(self):\n",
    "        return len(self.image_paths)\n",
    "    \n",
    "    def __getitem__(self, index):\n",
    "        image_file_path = os.path.join(self.root_dir, self.image_paths[index])\n",
    "        image = Image.open(image_file_path)\n",
    "\n",
    "        label = self.image_labels[index]\n",
    "        \n",
    "        if self.transform is not None:\n",
    "            image = self.transform(image)\n",
    "        \n",
    "        return image, label"
   ]
  },
  {
   "cell_type": "code",
   "execution_count": 5,
   "metadata": {},
   "outputs": [
    {
     "name": "stdout",
     "output_type": "stream",
     "text": [
      "['Female, Not smiling, Young', 'Female, Not smiling, Old', 'Female, Smiling, Young', 'Female, Smiling, Old', 'Male, Not smiling, Young', 'Male, Not smiling, Old', 'Male, Smiling, Young', 'Male, Smiling, Old']\n",
      "21000 9000 30000\n"
     ]
    },
    {
     "name": "stderr",
     "output_type": "stream",
     "text": [
      "/home/hyunjun/anaconda3/envs/test/lib/python3.7/site-packages/opacus/privacy_engine.py:143: UserWarning: Secure RNG turned off. This is perfectly fine for experimentation as it allows for much faster training performance, but remember to turn it on and retrain one last time before production with ``secure_mode`` turned on.\n",
      "  \"Secure RNG turned off. This is perfectly fine for experimentation as it allows \"\n"
     ]
    }
   ],
   "source": [
    "trans = transforms.Compose([\n",
    "    transforms.Resize((224, 224)),\n",
    "    transforms.ToTensor(),\n",
    "    transforms.Normalize((0.5, 0.5, 0.5), (0.5, 0.5, 0.5)),\n",
    "])\n",
    "\n",
    "celebAset = CelebA(root=dataset_path, annotation_path=annotation_path, transform=trans)\n",
    "train_size = int(0.7 * len(celebAset))\n",
    "trainset, testset = random_split(celebAset, [train_size, len(celebAset) - train_size])\n",
    "\n",
    "train_loader = DataLoader(trainset, batch_size=batch_size, shuffle=True, drop_last=False, )\n",
    "test_loader = DataLoader(testset, batch_size=batch_size, shuffle=True, drop_last=False, )\n",
    "\n",
    "classes = celebAset.classes\n",
    "print(classes)\n",
    "print(len(trainset), len(testset), len(celebAset))\n",
    "\n",
    "privacy_engine = PrivacyEngine()\n",
    "if opacus_baseline:\n",
    "    if not ModuleValidator.is_valid(model):\n",
    "        model = ModuleValidator.fix(model)\n",
    "        optimizer = optim.Adam(model.parameters(), lr=learning_rate)\n",
    "    \n",
    "    model, optimizer, train_loader = privacy_engine.make_private(\n",
    "        module=model,\n",
    "        optimizer=optimizer,\n",
    "        data_loader=train_loader,\n",
    "        noise_multiplier=1.1,\n",
    "        max_grad_norm=100.0,\n",
    "    )\n",
    "        \n",
    "model = model.to(device)"
   ]
  },
  {
   "cell_type": "code",
   "execution_count": 6,
   "metadata": {},
   "outputs": [],
   "source": [
    "def train_loop(dataloader, model, criterion, optimizer, epoch):\n",
    "    size = len(dataloader.dataset)\n",
    "    total_correct = 0\n",
    "    total_loss = 0\n",
    "    \n",
    "    model.train()\n",
    "    for batch, (X, y) in enumerate(dataloader):\n",
    "        model.train()\n",
    "        correct = 0\n",
    "        \n",
    "        pred = None\n",
    "        p = 0.0\n",
    "        if diff_drop == \"v3\":\n",
    "            pred, p = model(X.to(device), epoch)\n",
    "        else:\n",
    "            pred, p = model(X.to(device))\n",
    "        \n",
    "        loss = criterion(pred, y.to(device))\n",
    "        correct += (torch.argmax(pred, dim=1) == y.to(device)).type(torch.float).sum().item()\n",
    "        total_correct += correct\n",
    "        \n",
    "        model.train()\n",
    "        total_loss += loss.item()\n",
    "        \n",
    "        optimizer.zero_grad()\n",
    "        loss.backward()\n",
    "        \n",
    "        if diff_drop == \"v1\":\n",
    "            solver.PseudoPruning(model.fc, p)\n",
    "        elif diff_drop == \"v2\":\n",
    "            solver_v2.PseudoPruning(model.fc, p)\n",
    "        elif diff_drop == \"v3\":\n",
    "            solver_v3.PseudoPruning(model.fc, p)\n",
    "        \n",
    "        optimizer.step()\n",
    "        \n",
    "        if (batch % 50 == 0):\n",
    "            print(f\"Batch {batch:>5d}: Loss per batch is {loss.item():>7.6f} and Accuracy is {correct / batch_size:>7.6f}\")\n",
    "    print(f\"For Iteration: Loss is {(total_loss / (size // batch_size)):>7.6f} and Accuracy is {total_correct / size:>7.6f}\")"
   ]
  },
  {
   "cell_type": "code",
   "execution_count": 7,
   "metadata": {},
   "outputs": [],
   "source": [
    "def test_loop(dataloader, model, criterion):\n",
    "    test_loss = 0\n",
    "    correct = 0\n",
    "\n",
    "    model.eval()\n",
    "    \n",
    "    y_true = []\n",
    "    y_pred = []\n",
    "    \n",
    "    with torch.no_grad():\n",
    "        for X, y in dataloader:\n",
    "            pred, _ = model(X.to(device))\n",
    "            test_loss += criterion(pred, y.to(device)).item()\n",
    "            \n",
    "            pred = torch.argmax(pred, dim=1)\n",
    "            correct += (pred == y.to(device)).type(torch.float).sum().item()\n",
    "            \n",
    "            pred = pred.cpu().numpy()\n",
    "            y = y.cpu().numpy()\n",
    "            y_true.extend(y)\n",
    "            y_pred.extend(pred)\n",
    "    \n",
    "    print(classification_report(y_true=y_true, y_pred=y_pred, target_names=classes))\n",
    "    \n",
    "    return correct / len(dataloader.dataset)"
   ]
  },
  {
   "cell_type": "code",
   "execution_count": 8,
   "metadata": {},
   "outputs": [
    {
     "name": "stdout",
     "output_type": "stream",
     "text": [
      "Training: Epoch 1 ------------------\n",
      "Batch     0: Loss per batch is 2.065235 and Accuracy is 0.166016\n",
      "For Iteration: Loss is 1.706284 and Accuracy is 0.374667\n",
      "----Test: Epoch 1 ------------------\n"
     ]
    },
    {
     "name": "stderr",
     "output_type": "stream",
     "text": [
      "/home/hyunjun/anaconda3/envs/test/lib/python3.7/site-packages/sklearn/metrics/_classification.py:1318: UndefinedMetricWarning: Precision and F-score are ill-defined and being set to 0.0 in labels with no predicted samples. Use `zero_division` parameter to control this behavior.\n",
      "  _warn_prf(average, modifier, msg_start, len(result))\n",
      "/home/hyunjun/anaconda3/envs/test/lib/python3.7/site-packages/sklearn/metrics/_classification.py:1318: UndefinedMetricWarning: Precision and F-score are ill-defined and being set to 0.0 in labels with no predicted samples. Use `zero_division` parameter to control this behavior.\n",
      "  _warn_prf(average, modifier, msg_start, len(result))\n",
      "/home/hyunjun/anaconda3/envs/test/lib/python3.7/site-packages/sklearn/metrics/_classification.py:1318: UndefinedMetricWarning: Precision and F-score are ill-defined and being set to 0.0 in labels with no predicted samples. Use `zero_division` parameter to control this behavior.\n",
      "  _warn_prf(average, modifier, msg_start, len(result))\n"
     ]
    },
    {
     "name": "stdout",
     "output_type": "stream",
     "text": [
      "                            precision    recall  f1-score   support\n",
      "\n",
      "Female, Not smiling, Young       0.29      1.00      0.45      2585\n",
      "  Female, Not smiling, Old       0.00      0.00      0.00       198\n",
      "    Female, Smiling, Young       0.00      0.00      0.00      2447\n",
      "      Female, Smiling, Old       0.00      0.00      0.00       459\n",
      "  Male, Not smiling, Young       0.31      0.01      0.02      1226\n",
      "    Male, Not smiling, Old       0.00      0.00      0.00       749\n",
      "      Male, Smiling, Young       0.00      0.00      0.00       747\n",
      "        Male, Smiling, Old       0.00      0.00      0.00       589\n",
      "\n",
      "                  accuracy                           0.29      9000\n",
      "                 macro avg       0.08      0.13      0.06      9000\n",
      "              weighted avg       0.13      0.29      0.13      9000\n",
      "\n",
      "Training: Epoch 2 ------------------\n",
      "Batch     0: Loss per batch is 1.406824 and Accuracy is 0.498047\n",
      "For Iteration: Loss is 1.330286 and Accuracy is 0.527238\n",
      "----Test: Epoch 2 ------------------\n"
     ]
    },
    {
     "name": "stderr",
     "output_type": "stream",
     "text": [
      "/home/hyunjun/anaconda3/envs/test/lib/python3.7/site-packages/sklearn/metrics/_classification.py:1318: UndefinedMetricWarning: Precision and F-score are ill-defined and being set to 0.0 in labels with no predicted samples. Use `zero_division` parameter to control this behavior.\n",
      "  _warn_prf(average, modifier, msg_start, len(result))\n",
      "/home/hyunjun/anaconda3/envs/test/lib/python3.7/site-packages/sklearn/metrics/_classification.py:1318: UndefinedMetricWarning: Precision and F-score are ill-defined and being set to 0.0 in labels with no predicted samples. Use `zero_division` parameter to control this behavior.\n",
      "  _warn_prf(average, modifier, msg_start, len(result))\n",
      "/home/hyunjun/anaconda3/envs/test/lib/python3.7/site-packages/sklearn/metrics/_classification.py:1318: UndefinedMetricWarning: Precision and F-score are ill-defined and being set to 0.0 in labels with no predicted samples. Use `zero_division` parameter to control this behavior.\n",
      "  _warn_prf(average, modifier, msg_start, len(result))\n"
     ]
    },
    {
     "name": "stdout",
     "output_type": "stream",
     "text": [
      "                            precision    recall  f1-score   support\n",
      "\n",
      "Female, Not smiling, Young       0.64      0.45      0.53      2585\n",
      "  Female, Not smiling, Old       0.00      0.00      0.00       198\n",
      "    Female, Smiling, Young       0.51      0.86      0.64      2447\n",
      "      Female, Smiling, Old       0.57      0.01      0.02       459\n",
      "  Male, Not smiling, Young       0.44      0.56      0.50      1226\n",
      "    Male, Not smiling, Old       0.42      0.19      0.26       749\n",
      "      Male, Smiling, Young       0.45      0.19      0.27       747\n",
      "        Male, Smiling, Old       0.31      0.46      0.37       589\n",
      "\n",
      "                  accuracy                           0.50      9000\n",
      "                 macro avg       0.42      0.34      0.32      9000\n",
      "              weighted avg       0.51      0.50      0.46      9000\n",
      "\n",
      "Training: Epoch 3 ------------------\n",
      "Batch     0: Loss per batch is 1.344609 and Accuracy is 0.486328\n",
      "For Iteration: Loss is 1.132932 and Accuracy is 0.608524\n",
      "----Test: Epoch 3 ------------------\n"
     ]
    },
    {
     "name": "stderr",
     "output_type": "stream",
     "text": [
      "/home/hyunjun/anaconda3/envs/test/lib/python3.7/site-packages/sklearn/metrics/_classification.py:1318: UndefinedMetricWarning: Precision and F-score are ill-defined and being set to 0.0 in labels with no predicted samples. Use `zero_division` parameter to control this behavior.\n",
      "  _warn_prf(average, modifier, msg_start, len(result))\n",
      "/home/hyunjun/anaconda3/envs/test/lib/python3.7/site-packages/sklearn/metrics/_classification.py:1318: UndefinedMetricWarning: Precision and F-score are ill-defined and being set to 0.0 in labels with no predicted samples. Use `zero_division` parameter to control this behavior.\n",
      "  _warn_prf(average, modifier, msg_start, len(result))\n",
      "/home/hyunjun/anaconda3/envs/test/lib/python3.7/site-packages/sklearn/metrics/_classification.py:1318: UndefinedMetricWarning: Precision and F-score are ill-defined and being set to 0.0 in labels with no predicted samples. Use `zero_division` parameter to control this behavior.\n",
      "  _warn_prf(average, modifier, msg_start, len(result))\n"
     ]
    },
    {
     "name": "stdout",
     "output_type": "stream",
     "text": [
      "                            precision    recall  f1-score   support\n",
      "\n",
      "Female, Not smiling, Young       0.70      0.90      0.79      2585\n",
      "  Female, Not smiling, Old       0.00      0.00      0.00       198\n",
      "    Female, Smiling, Young       0.80      0.72      0.76      2447\n",
      "      Female, Smiling, Old       0.69      0.04      0.08       459\n",
      "  Male, Not smiling, Young       0.52      0.73      0.60      1226\n",
      "    Male, Not smiling, Old       0.39      0.45      0.42       749\n",
      "      Male, Smiling, Young       0.74      0.26      0.39       747\n",
      "        Male, Smiling, Old       0.44      0.42      0.43       589\n",
      "\n",
      "                  accuracy                           0.64      9000\n",
      "                 macro avg       0.53      0.44      0.43      9000\n",
      "              weighted avg       0.65      0.64      0.61      9000\n",
      "\n",
      "Training: Epoch 4 ------------------\n",
      "Batch     0: Loss per batch is 1.152150 and Accuracy is 0.603516\n",
      "For Iteration: Loss is 1.106278 and Accuracy is 0.636143\n",
      "----Test: Epoch 4 ------------------\n"
     ]
    },
    {
     "name": "stderr",
     "output_type": "stream",
     "text": [
      "/home/hyunjun/anaconda3/envs/test/lib/python3.7/site-packages/sklearn/metrics/_classification.py:1318: UndefinedMetricWarning: Precision and F-score are ill-defined and being set to 0.0 in labels with no predicted samples. Use `zero_division` parameter to control this behavior.\n",
      "  _warn_prf(average, modifier, msg_start, len(result))\n",
      "/home/hyunjun/anaconda3/envs/test/lib/python3.7/site-packages/sklearn/metrics/_classification.py:1318: UndefinedMetricWarning: Precision and F-score are ill-defined and being set to 0.0 in labels with no predicted samples. Use `zero_division` parameter to control this behavior.\n",
      "  _warn_prf(average, modifier, msg_start, len(result))\n",
      "/home/hyunjun/anaconda3/envs/test/lib/python3.7/site-packages/sklearn/metrics/_classification.py:1318: UndefinedMetricWarning: Precision and F-score are ill-defined and being set to 0.0 in labels with no predicted samples. Use `zero_division` parameter to control this behavior.\n",
      "  _warn_prf(average, modifier, msg_start, len(result))\n"
     ]
    },
    {
     "name": "stdout",
     "output_type": "stream",
     "text": [
      "                            precision    recall  f1-score   support\n",
      "\n",
      "Female, Not smiling, Young       0.70      0.96      0.81      2585\n",
      "  Female, Not smiling, Old       0.00      0.00      0.00       198\n",
      "    Female, Smiling, Young       0.78      0.77      0.78      2447\n",
      "      Female, Smiling, Old       0.79      0.03      0.06       459\n",
      "  Male, Not smiling, Young       0.55      0.74      0.63      1226\n",
      "    Male, Not smiling, Old       0.35      0.45      0.40       749\n",
      "      Male, Smiling, Young       0.82      0.23      0.36       747\n",
      "        Male, Smiling, Old       0.53      0.15      0.23       589\n",
      "\n",
      "                  accuracy                           0.65      9000\n",
      "                 macro avg       0.56      0.42      0.41      9000\n",
      "              weighted avg       0.66      0.65      0.61      9000\n",
      "\n",
      "Training: Epoch 5 ------------------\n",
      "Batch     0: Loss per batch is 1.075763 and Accuracy is 0.615234\n",
      "For Iteration: Loss is 1.005138 and Accuracy is 0.662857\n",
      "----Test: Epoch 5 ------------------\n"
     ]
    },
    {
     "name": "stderr",
     "output_type": "stream",
     "text": [
      "/home/hyunjun/anaconda3/envs/test/lib/python3.7/site-packages/sklearn/metrics/_classification.py:1318: UndefinedMetricWarning: Precision and F-score are ill-defined and being set to 0.0 in labels with no predicted samples. Use `zero_division` parameter to control this behavior.\n",
      "  _warn_prf(average, modifier, msg_start, len(result))\n",
      "/home/hyunjun/anaconda3/envs/test/lib/python3.7/site-packages/sklearn/metrics/_classification.py:1318: UndefinedMetricWarning: Precision and F-score are ill-defined and being set to 0.0 in labels with no predicted samples. Use `zero_division` parameter to control this behavior.\n",
      "  _warn_prf(average, modifier, msg_start, len(result))\n",
      "/home/hyunjun/anaconda3/envs/test/lib/python3.7/site-packages/sklearn/metrics/_classification.py:1318: UndefinedMetricWarning: Precision and F-score are ill-defined and being set to 0.0 in labels with no predicted samples. Use `zero_division` parameter to control this behavior.\n",
      "  _warn_prf(average, modifier, msg_start, len(result))\n"
     ]
    },
    {
     "name": "stdout",
     "output_type": "stream",
     "text": [
      "                            precision    recall  f1-score   support\n",
      "\n",
      "Female, Not smiling, Young       0.75      0.95      0.84      2585\n",
      "  Female, Not smiling, Old       0.00      0.00      0.00       198\n",
      "    Female, Smiling, Young       0.76      0.83      0.79      2447\n",
      "      Female, Smiling, Old       0.67      0.03      0.05       459\n",
      "  Male, Not smiling, Young       0.68      0.68      0.68      1226\n",
      "    Male, Not smiling, Old       0.59      0.34      0.43       749\n",
      "      Male, Smiling, Young       0.58      0.68      0.62       747\n",
      "        Male, Smiling, Old       0.56      0.44      0.49       589\n",
      "\n",
      "                  accuracy                           0.71      9000\n",
      "                 macro avg       0.57      0.49      0.49      9000\n",
      "              weighted avg       0.68      0.71      0.67      9000\n",
      "\n",
      "Training: Epoch 6 ------------------\n",
      "Batch     0: Loss per batch is 0.980348 and Accuracy is 0.697266\n",
      "For Iteration: Loss is 0.955829 and Accuracy is 0.691333\n",
      "----Test: Epoch 6 ------------------\n"
     ]
    },
    {
     "name": "stderr",
     "output_type": "stream",
     "text": [
      "/home/hyunjun/anaconda3/envs/test/lib/python3.7/site-packages/sklearn/metrics/_classification.py:1318: UndefinedMetricWarning: Precision and F-score are ill-defined and being set to 0.0 in labels with no predicted samples. Use `zero_division` parameter to control this behavior.\n",
      "  _warn_prf(average, modifier, msg_start, len(result))\n",
      "/home/hyunjun/anaconda3/envs/test/lib/python3.7/site-packages/sklearn/metrics/_classification.py:1318: UndefinedMetricWarning: Precision and F-score are ill-defined and being set to 0.0 in labels with no predicted samples. Use `zero_division` parameter to control this behavior.\n",
      "  _warn_prf(average, modifier, msg_start, len(result))\n",
      "/home/hyunjun/anaconda3/envs/test/lib/python3.7/site-packages/sklearn/metrics/_classification.py:1318: UndefinedMetricWarning: Precision and F-score are ill-defined and being set to 0.0 in labels with no predicted samples. Use `zero_division` parameter to control this behavior.\n",
      "  _warn_prf(average, modifier, msg_start, len(result))\n"
     ]
    },
    {
     "name": "stdout",
     "output_type": "stream",
     "text": [
      "                            precision    recall  f1-score   support\n",
      "\n",
      "Female, Not smiling, Young       0.60      0.99      0.74      2585\n",
      "  Female, Not smiling, Old       0.00      0.00      0.00       198\n",
      "    Female, Smiling, Young       0.83      0.59      0.69      2447\n",
      "      Female, Smiling, Old       0.95      0.04      0.08       459\n",
      "  Male, Not smiling, Young       0.41      0.79      0.54      1226\n",
      "    Male, Not smiling, Old       0.33      0.18      0.23       749\n",
      "      Male, Smiling, Young       0.75      0.16      0.27       747\n",
      "        Male, Smiling, Old       0.83      0.03      0.05       589\n",
      "\n",
      "                  accuracy                           0.58      9000\n",
      "                 macro avg       0.59      0.35      0.33      9000\n",
      "              weighted avg       0.65      0.58      0.52      9000\n",
      "\n",
      "Training: Epoch 7 ------------------\n",
      "Batch     0: Loss per batch is 1.097301 and Accuracy is 0.607422\n",
      "For Iteration: Loss is 1.103716 and Accuracy is 0.631810\n",
      "----Test: Epoch 7 ------------------\n"
     ]
    },
    {
     "name": "stderr",
     "output_type": "stream",
     "text": [
      "/home/hyunjun/anaconda3/envs/test/lib/python3.7/site-packages/sklearn/metrics/_classification.py:1318: UndefinedMetricWarning: Precision and F-score are ill-defined and being set to 0.0 in labels with no predicted samples. Use `zero_division` parameter to control this behavior.\n",
      "  _warn_prf(average, modifier, msg_start, len(result))\n",
      "/home/hyunjun/anaconda3/envs/test/lib/python3.7/site-packages/sklearn/metrics/_classification.py:1318: UndefinedMetricWarning: Precision and F-score are ill-defined and being set to 0.0 in labels with no predicted samples. Use `zero_division` parameter to control this behavior.\n",
      "  _warn_prf(average, modifier, msg_start, len(result))\n",
      "/home/hyunjun/anaconda3/envs/test/lib/python3.7/site-packages/sklearn/metrics/_classification.py:1318: UndefinedMetricWarning: Precision and F-score are ill-defined and being set to 0.0 in labels with no predicted samples. Use `zero_division` parameter to control this behavior.\n",
      "  _warn_prf(average, modifier, msg_start, len(result))\n"
     ]
    },
    {
     "name": "stdout",
     "output_type": "stream",
     "text": [
      "                            precision    recall  f1-score   support\n",
      "\n",
      "Female, Not smiling, Young       0.82      0.67      0.73      2585\n",
      "  Female, Not smiling, Old       0.00      0.00      0.00       198\n",
      "    Female, Smiling, Young       0.60      0.98      0.74      2447\n",
      "      Female, Smiling, Old       0.71      0.02      0.04       459\n",
      "  Male, Not smiling, Young       0.72      0.41      0.52      1226\n",
      "    Male, Not smiling, Old       0.65      0.20      0.30       749\n",
      "      Male, Smiling, Young       0.41      0.80      0.54       747\n",
      "        Male, Smiling, Old       0.48      0.36      0.41       589\n",
      "\n",
      "                  accuracy                           0.62      9000\n",
      "                 macro avg       0.55      0.43      0.41      9000\n",
      "              weighted avg       0.65      0.62      0.58      9000\n",
      "\n",
      "Training: Epoch 8 ------------------\n",
      "Batch     0: Loss per batch is 0.892991 and Accuracy is 0.693359\n",
      "For Iteration: Loss is 0.917200 and Accuracy is 0.705952\n",
      "----Test: Epoch 8 ------------------\n"
     ]
    },
    {
     "name": "stderr",
     "output_type": "stream",
     "text": [
      "/home/hyunjun/anaconda3/envs/test/lib/python3.7/site-packages/sklearn/metrics/_classification.py:1318: UndefinedMetricWarning: Precision and F-score are ill-defined and being set to 0.0 in labels with no predicted samples. Use `zero_division` parameter to control this behavior.\n",
      "  _warn_prf(average, modifier, msg_start, len(result))\n",
      "/home/hyunjun/anaconda3/envs/test/lib/python3.7/site-packages/sklearn/metrics/_classification.py:1318: UndefinedMetricWarning: Precision and F-score are ill-defined and being set to 0.0 in labels with no predicted samples. Use `zero_division` parameter to control this behavior.\n",
      "  _warn_prf(average, modifier, msg_start, len(result))\n",
      "/home/hyunjun/anaconda3/envs/test/lib/python3.7/site-packages/sklearn/metrics/_classification.py:1318: UndefinedMetricWarning: Precision and F-score are ill-defined and being set to 0.0 in labels with no predicted samples. Use `zero_division` parameter to control this behavior.\n",
      "  _warn_prf(average, modifier, msg_start, len(result))\n"
     ]
    },
    {
     "name": "stdout",
     "output_type": "stream",
     "text": [
      "                            precision    recall  f1-score   support\n",
      "\n",
      "Female, Not smiling, Young       0.86      0.76      0.81      2585\n",
      "  Female, Not smiling, Old       0.00      0.00      0.00       198\n",
      "    Female, Smiling, Young       0.85      0.84      0.84      2447\n",
      "      Female, Smiling, Old       0.69      0.20      0.31       459\n",
      "  Male, Not smiling, Young       0.52      0.82      0.64      1226\n",
      "    Male, Not smiling, Old       0.48      0.58      0.52       749\n",
      "      Male, Smiling, Young       0.62      0.73      0.67       747\n",
      "        Male, Smiling, Old       0.59      0.47      0.53       589\n",
      "\n",
      "                  accuracy                           0.71      9000\n",
      "                 macro avg       0.58      0.55      0.54      9000\n",
      "              weighted avg       0.72      0.71      0.70      9000\n",
      "\n",
      "Training: Epoch 9 ------------------\n",
      "Batch     0: Loss per batch is 0.950916 and Accuracy is 0.689453\n",
      "For Iteration: Loss is 1.022404 and Accuracy is 0.654952\n",
      "----Test: Epoch 9 ------------------\n"
     ]
    },
    {
     "name": "stderr",
     "output_type": "stream",
     "text": [
      "/home/hyunjun/anaconda3/envs/test/lib/python3.7/site-packages/sklearn/metrics/_classification.py:1318: UndefinedMetricWarning: Precision and F-score are ill-defined and being set to 0.0 in labels with no predicted samples. Use `zero_division` parameter to control this behavior.\n",
      "  _warn_prf(average, modifier, msg_start, len(result))\n",
      "/home/hyunjun/anaconda3/envs/test/lib/python3.7/site-packages/sklearn/metrics/_classification.py:1318: UndefinedMetricWarning: Precision and F-score are ill-defined and being set to 0.0 in labels with no predicted samples. Use `zero_division` parameter to control this behavior.\n",
      "  _warn_prf(average, modifier, msg_start, len(result))\n",
      "/home/hyunjun/anaconda3/envs/test/lib/python3.7/site-packages/sklearn/metrics/_classification.py:1318: UndefinedMetricWarning: Precision and F-score are ill-defined and being set to 0.0 in labels with no predicted samples. Use `zero_division` parameter to control this behavior.\n",
      "  _warn_prf(average, modifier, msg_start, len(result))\n"
     ]
    },
    {
     "name": "stdout",
     "output_type": "stream",
     "text": [
      "                            precision    recall  f1-score   support\n",
      "\n",
      "Female, Not smiling, Young       0.75      0.88      0.81      2585\n",
      "  Female, Not smiling, Old       0.00      0.00      0.00       198\n",
      "    Female, Smiling, Young       0.92      0.64      0.75      2447\n",
      "      Female, Smiling, Old       0.69      0.20      0.31       459\n",
      "  Male, Not smiling, Young       0.52      0.89      0.66      1226\n",
      "    Male, Not smiling, Old       0.40      0.56      0.47       749\n",
      "      Male, Smiling, Young       0.67      0.40      0.50       747\n",
      "        Male, Smiling, Old       0.46      0.42      0.44       589\n",
      "\n",
      "                  accuracy                           0.67      9000\n",
      "                 macro avg       0.55      0.50      0.49      9000\n",
      "              weighted avg       0.69      0.67      0.65      9000\n",
      "\n",
      "Training: Epoch 10 ------------------\n",
      "Batch     0: Loss per batch is 1.144806 and Accuracy is 0.595703\n",
      "For Iteration: Loss is 1.124229 and Accuracy is 0.611190\n",
      "----Test: Epoch 10 ------------------\n"
     ]
    },
    {
     "name": "stderr",
     "output_type": "stream",
     "text": [
      "/home/hyunjun/anaconda3/envs/test/lib/python3.7/site-packages/sklearn/metrics/_classification.py:1318: UndefinedMetricWarning: Precision and F-score are ill-defined and being set to 0.0 in labels with no predicted samples. Use `zero_division` parameter to control this behavior.\n",
      "  _warn_prf(average, modifier, msg_start, len(result))\n",
      "/home/hyunjun/anaconda3/envs/test/lib/python3.7/site-packages/sklearn/metrics/_classification.py:1318: UndefinedMetricWarning: Precision and F-score are ill-defined and being set to 0.0 in labels with no predicted samples. Use `zero_division` parameter to control this behavior.\n",
      "  _warn_prf(average, modifier, msg_start, len(result))\n",
      "/home/hyunjun/anaconda3/envs/test/lib/python3.7/site-packages/sklearn/metrics/_classification.py:1318: UndefinedMetricWarning: Precision and F-score are ill-defined and being set to 0.0 in labels with no predicted samples. Use `zero_division` parameter to control this behavior.\n",
      "  _warn_prf(average, modifier, msg_start, len(result))\n"
     ]
    },
    {
     "name": "stdout",
     "output_type": "stream",
     "text": [
      "                            precision    recall  f1-score   support\n",
      "\n",
      "Female, Not smiling, Young       0.84      0.76      0.80      2585\n",
      "  Female, Not smiling, Old       0.00      0.00      0.00       198\n",
      "    Female, Smiling, Young       0.90      0.46      0.61      2447\n",
      "      Female, Smiling, Old       0.47      0.15      0.23       459\n",
      "  Male, Not smiling, Young       0.54      0.78      0.64      1226\n",
      "    Male, Not smiling, Old       0.41      0.64      0.50       749\n",
      "      Male, Smiling, Young       0.33      0.58      0.42       747\n",
      "        Male, Smiling, Old       0.34      0.59      0.43       589\n",
      "\n",
      "                  accuracy                           0.60      9000\n",
      "                 macro avg       0.48      0.50      0.46      9000\n",
      "              weighted avg       0.67      0.60      0.60      9000\n",
      "\n",
      "Training: Epoch 11 ------------------\n",
      "Batch     0: Loss per batch is 0.846519 and Accuracy is 0.740234\n",
      "For Iteration: Loss is 0.887218 and Accuracy is 0.715810\n",
      "----Test: Epoch 11 ------------------\n"
     ]
    },
    {
     "name": "stderr",
     "output_type": "stream",
     "text": [
      "/home/hyunjun/anaconda3/envs/test/lib/python3.7/site-packages/sklearn/metrics/_classification.py:1318: UndefinedMetricWarning: Precision and F-score are ill-defined and being set to 0.0 in labels with no predicted samples. Use `zero_division` parameter to control this behavior.\n",
      "  _warn_prf(average, modifier, msg_start, len(result))\n",
      "/home/hyunjun/anaconda3/envs/test/lib/python3.7/site-packages/sklearn/metrics/_classification.py:1318: UndefinedMetricWarning: Precision and F-score are ill-defined and being set to 0.0 in labels with no predicted samples. Use `zero_division` parameter to control this behavior.\n",
      "  _warn_prf(average, modifier, msg_start, len(result))\n",
      "/home/hyunjun/anaconda3/envs/test/lib/python3.7/site-packages/sklearn/metrics/_classification.py:1318: UndefinedMetricWarning: Precision and F-score are ill-defined and being set to 0.0 in labels with no predicted samples. Use `zero_division` parameter to control this behavior.\n",
      "  _warn_prf(average, modifier, msg_start, len(result))\n"
     ]
    },
    {
     "name": "stdout",
     "output_type": "stream",
     "text": [
      "                            precision    recall  f1-score   support\n",
      "\n",
      "Female, Not smiling, Young       0.47      0.99      0.64      2585\n",
      "  Female, Not smiling, Old       0.00      0.00      0.00       198\n",
      "    Female, Smiling, Young       0.72      0.52      0.60      2447\n",
      "      Female, Smiling, Old       0.22      0.06      0.09       459\n",
      "  Male, Not smiling, Young       0.55      0.42      0.48      1226\n",
      "    Male, Not smiling, Old       0.42      0.24      0.31       749\n",
      "      Male, Smiling, Young       0.79      0.18      0.29       747\n",
      "        Male, Smiling, Old       0.71      0.08      0.15       589\n",
      "\n",
      "                  accuracy                           0.53      9000\n",
      "                 macro avg       0.48      0.31      0.32      9000\n",
      "              weighted avg       0.56      0.53      0.47      9000\n",
      "\n",
      "Training: Epoch 12 ------------------\n",
      "Batch     0: Loss per batch is 1.276474 and Accuracy is 0.542969\n",
      "For Iteration: Loss is 1.291124 and Accuracy is 0.546429\n",
      "----Test: Epoch 12 ------------------\n"
     ]
    },
    {
     "name": "stderr",
     "output_type": "stream",
     "text": [
      "/home/hyunjun/anaconda3/envs/test/lib/python3.7/site-packages/sklearn/metrics/_classification.py:1318: UndefinedMetricWarning: Precision and F-score are ill-defined and being set to 0.0 in labels with no predicted samples. Use `zero_division` parameter to control this behavior.\n",
      "  _warn_prf(average, modifier, msg_start, len(result))\n",
      "/home/hyunjun/anaconda3/envs/test/lib/python3.7/site-packages/sklearn/metrics/_classification.py:1318: UndefinedMetricWarning: Precision and F-score are ill-defined and being set to 0.0 in labels with no predicted samples. Use `zero_division` parameter to control this behavior.\n",
      "  _warn_prf(average, modifier, msg_start, len(result))\n",
      "/home/hyunjun/anaconda3/envs/test/lib/python3.7/site-packages/sklearn/metrics/_classification.py:1318: UndefinedMetricWarning: Precision and F-score are ill-defined and being set to 0.0 in labels with no predicted samples. Use `zero_division` parameter to control this behavior.\n",
      "  _warn_prf(average, modifier, msg_start, len(result))\n"
     ]
    },
    {
     "name": "stdout",
     "output_type": "stream",
     "text": [
      "                            precision    recall  f1-score   support\n",
      "\n",
      "Female, Not smiling, Young       0.81      0.62      0.70      2585\n",
      "  Female, Not smiling, Old       0.00      0.00      0.00       198\n",
      "    Female, Smiling, Young       0.98      0.03      0.05      2447\n",
      "      Female, Smiling, Old       0.13      0.54      0.22       459\n",
      "  Male, Not smiling, Young       0.46      0.53      0.49      1226\n",
      "    Male, Not smiling, Old       0.20      0.89      0.33       749\n",
      "      Male, Smiling, Young       0.89      0.05      0.10       747\n",
      "        Male, Smiling, Old       0.22      0.15      0.18       589\n",
      "\n",
      "                  accuracy                           0.37      9000\n",
      "                 macro avg       0.46      0.35      0.26      9000\n",
      "              weighted avg       0.68      0.37      0.34      9000\n",
      "\n",
      "Training: Epoch 13 ------------------\n",
      "Batch     0: Loss per batch is 1.143056 and Accuracy is 0.585938\n",
      "For Iteration: Loss is 1.213543 and Accuracy is 0.574286\n",
      "----Test: Epoch 13 ------------------\n"
     ]
    },
    {
     "name": "stderr",
     "output_type": "stream",
     "text": [
      "/home/hyunjun/anaconda3/envs/test/lib/python3.7/site-packages/sklearn/metrics/_classification.py:1318: UndefinedMetricWarning: Precision and F-score are ill-defined and being set to 0.0 in labels with no predicted samples. Use `zero_division` parameter to control this behavior.\n",
      "  _warn_prf(average, modifier, msg_start, len(result))\n",
      "/home/hyunjun/anaconda3/envs/test/lib/python3.7/site-packages/sklearn/metrics/_classification.py:1318: UndefinedMetricWarning: Precision and F-score are ill-defined and being set to 0.0 in labels with no predicted samples. Use `zero_division` parameter to control this behavior.\n",
      "  _warn_prf(average, modifier, msg_start, len(result))\n",
      "/home/hyunjun/anaconda3/envs/test/lib/python3.7/site-packages/sklearn/metrics/_classification.py:1318: UndefinedMetricWarning: Precision and F-score are ill-defined and being set to 0.0 in labels with no predicted samples. Use `zero_division` parameter to control this behavior.\n",
      "  _warn_prf(average, modifier, msg_start, len(result))\n"
     ]
    },
    {
     "name": "stdout",
     "output_type": "stream",
     "text": [
      "                            precision    recall  f1-score   support\n",
      "\n",
      "Female, Not smiling, Young       0.85      0.92      0.88      2585\n",
      "  Female, Not smiling, Old       0.00      0.00      0.00       198\n",
      "    Female, Smiling, Young       0.80      0.90      0.85      2447\n",
      "      Female, Smiling, Old       0.96      0.05      0.09       459\n",
      "  Male, Not smiling, Young       0.67      0.84      0.74      1226\n",
      "    Male, Not smiling, Old       0.64      0.43      0.51       749\n",
      "      Male, Smiling, Young       0.64      0.82      0.72       747\n",
      "        Male, Smiling, Old       0.71      0.50      0.59       589\n",
      "\n",
      "                  accuracy                           0.76      9000\n",
      "                 macro avg       0.66      0.56      0.55      9000\n",
      "              weighted avg       0.75      0.76      0.73      9000\n",
      "\n",
      "Training: Epoch 14 ------------------\n",
      "Batch     0: Loss per batch is 0.966317 and Accuracy is 0.714844\n",
      "For Iteration: Loss is 0.867823 and Accuracy is 0.727238\n",
      "----Test: Epoch 14 ------------------\n"
     ]
    },
    {
     "name": "stderr",
     "output_type": "stream",
     "text": [
      "/home/hyunjun/anaconda3/envs/test/lib/python3.7/site-packages/sklearn/metrics/_classification.py:1318: UndefinedMetricWarning: Precision and F-score are ill-defined and being set to 0.0 in labels with no predicted samples. Use `zero_division` parameter to control this behavior.\n",
      "  _warn_prf(average, modifier, msg_start, len(result))\n",
      "/home/hyunjun/anaconda3/envs/test/lib/python3.7/site-packages/sklearn/metrics/_classification.py:1318: UndefinedMetricWarning: Precision and F-score are ill-defined and being set to 0.0 in labels with no predicted samples. Use `zero_division` parameter to control this behavior.\n",
      "  _warn_prf(average, modifier, msg_start, len(result))\n",
      "/home/hyunjun/anaconda3/envs/test/lib/python3.7/site-packages/sklearn/metrics/_classification.py:1318: UndefinedMetricWarning: Precision and F-score are ill-defined and being set to 0.0 in labels with no predicted samples. Use `zero_division` parameter to control this behavior.\n",
      "  _warn_prf(average, modifier, msg_start, len(result))\n"
     ]
    },
    {
     "name": "stdout",
     "output_type": "stream",
     "text": [
      "                            precision    recall  f1-score   support\n",
      "\n",
      "Female, Not smiling, Young       0.85      0.90      0.87      2585\n",
      "  Female, Not smiling, Old       0.00      0.00      0.00       198\n",
      "    Female, Smiling, Young       0.81      0.91      0.86      2447\n",
      "      Female, Smiling, Old       0.62      0.51      0.56       459\n",
      "  Male, Not smiling, Young       0.74      0.68      0.71      1226\n",
      "    Male, Not smiling, Old       0.50      0.70      0.59       749\n",
      "      Male, Smiling, Young       0.89      0.46      0.60       747\n",
      "        Male, Smiling, Old       0.63      0.61      0.62       589\n",
      "\n",
      "                  accuracy                           0.76      9000\n",
      "                 macro avg       0.63      0.60      0.60      9000\n",
      "              weighted avg       0.75      0.76      0.75      9000\n",
      "\n",
      "Training: Epoch 15 ------------------\n",
      "Batch     0: Loss per batch is 1.497496 and Accuracy is 0.466797\n",
      "For Iteration: Loss is 1.415981 and Accuracy is 0.459667\n",
      "----Test: Epoch 15 ------------------\n"
     ]
    },
    {
     "name": "stderr",
     "output_type": "stream",
     "text": [
      "/home/hyunjun/anaconda3/envs/test/lib/python3.7/site-packages/sklearn/metrics/_classification.py:1318: UndefinedMetricWarning: Precision and F-score are ill-defined and being set to 0.0 in labels with no predicted samples. Use `zero_division` parameter to control this behavior.\n",
      "  _warn_prf(average, modifier, msg_start, len(result))\n",
      "/home/hyunjun/anaconda3/envs/test/lib/python3.7/site-packages/sklearn/metrics/_classification.py:1318: UndefinedMetricWarning: Precision and F-score are ill-defined and being set to 0.0 in labels with no predicted samples. Use `zero_division` parameter to control this behavior.\n",
      "  _warn_prf(average, modifier, msg_start, len(result))\n",
      "/home/hyunjun/anaconda3/envs/test/lib/python3.7/site-packages/sklearn/metrics/_classification.py:1318: UndefinedMetricWarning: Precision and F-score are ill-defined and being set to 0.0 in labels with no predicted samples. Use `zero_division` parameter to control this behavior.\n",
      "  _warn_prf(average, modifier, msg_start, len(result))\n"
     ]
    },
    {
     "name": "stdout",
     "output_type": "stream",
     "text": [
      "                            precision    recall  f1-score   support\n",
      "\n",
      "Female, Not smiling, Young       0.73      0.98      0.84      2585\n",
      "  Female, Not smiling, Old       0.00      0.00      0.00       198\n",
      "    Female, Smiling, Young       0.84      0.75      0.79      2447\n",
      "      Female, Smiling, Old       0.92      0.03      0.05       459\n",
      "  Male, Not smiling, Young       0.43      0.89      0.58      1226\n",
      "    Male, Not smiling, Old       0.53      0.01      0.02       749\n",
      "      Male, Smiling, Young       0.55      0.57      0.56       747\n",
      "        Male, Smiling, Old       1.00      0.00      0.01       589\n",
      "\n",
      "                  accuracy                           0.66      9000\n",
      "                 macro avg       0.63      0.40      0.36      9000\n",
      "              weighted avg       0.70      0.66      0.59      9000\n",
      "\n",
      "Training: Epoch 16 ------------------\n",
      "Batch     0: Loss per batch is 1.043652 and Accuracy is 0.648438\n",
      "For Iteration: Loss is 1.149219 and Accuracy is 0.605095\n",
      "----Test: Epoch 16 ------------------\n"
     ]
    },
    {
     "name": "stderr",
     "output_type": "stream",
     "text": [
      "/home/hyunjun/anaconda3/envs/test/lib/python3.7/site-packages/sklearn/metrics/_classification.py:1318: UndefinedMetricWarning: Precision and F-score are ill-defined and being set to 0.0 in labels with no predicted samples. Use `zero_division` parameter to control this behavior.\n",
      "  _warn_prf(average, modifier, msg_start, len(result))\n",
      "/home/hyunjun/anaconda3/envs/test/lib/python3.7/site-packages/sklearn/metrics/_classification.py:1318: UndefinedMetricWarning: Precision and F-score are ill-defined and being set to 0.0 in labels with no predicted samples. Use `zero_division` parameter to control this behavior.\n",
      "  _warn_prf(average, modifier, msg_start, len(result))\n",
      "/home/hyunjun/anaconda3/envs/test/lib/python3.7/site-packages/sklearn/metrics/_classification.py:1318: UndefinedMetricWarning: Precision and F-score are ill-defined and being set to 0.0 in labels with no predicted samples. Use `zero_division` parameter to control this behavior.\n",
      "  _warn_prf(average, modifier, msg_start, len(result))\n"
     ]
    },
    {
     "name": "stdout",
     "output_type": "stream",
     "text": [
      "                            precision    recall  f1-score   support\n",
      "\n",
      "Female, Not smiling, Young       0.79      0.96      0.87      2585\n",
      "  Female, Not smiling, Old       0.00      0.00      0.00       198\n",
      "    Female, Smiling, Young       0.87      0.83      0.85      2447\n",
      "      Female, Smiling, Old       0.76      0.40      0.52       459\n",
      "  Male, Not smiling, Young       0.67      0.81      0.74      1226\n",
      "    Male, Not smiling, Old       0.53      0.52      0.52       749\n",
      "      Male, Smiling, Young       0.82      0.60      0.69       747\n",
      "        Male, Smiling, Old       0.68      0.60      0.64       589\n",
      "\n",
      "                  accuracy                           0.76      9000\n",
      "                 macro avg       0.64      0.59      0.60      9000\n",
      "              weighted avg       0.75      0.76      0.75      9000\n",
      "\n",
      "Training: Epoch 17 ------------------\n",
      "Batch     0: Loss per batch is 1.029569 and Accuracy is 0.615234\n",
      "For Iteration: Loss is 1.063935 and Accuracy is 0.616857\n",
      "----Test: Epoch 17 ------------------\n"
     ]
    },
    {
     "name": "stderr",
     "output_type": "stream",
     "text": [
      "/home/hyunjun/anaconda3/envs/test/lib/python3.7/site-packages/sklearn/metrics/_classification.py:1318: UndefinedMetricWarning: Precision and F-score are ill-defined and being set to 0.0 in labels with no predicted samples. Use `zero_division` parameter to control this behavior.\n",
      "  _warn_prf(average, modifier, msg_start, len(result))\n",
      "/home/hyunjun/anaconda3/envs/test/lib/python3.7/site-packages/sklearn/metrics/_classification.py:1318: UndefinedMetricWarning: Precision and F-score are ill-defined and being set to 0.0 in labels with no predicted samples. Use `zero_division` parameter to control this behavior.\n",
      "  _warn_prf(average, modifier, msg_start, len(result))\n",
      "/home/hyunjun/anaconda3/envs/test/lib/python3.7/site-packages/sklearn/metrics/_classification.py:1318: UndefinedMetricWarning: Precision and F-score are ill-defined and being set to 0.0 in labels with no predicted samples. Use `zero_division` parameter to control this behavior.\n",
      "  _warn_prf(average, modifier, msg_start, len(result))\n"
     ]
    },
    {
     "name": "stdout",
     "output_type": "stream",
     "text": [
      "                            precision    recall  f1-score   support\n",
      "\n",
      "Female, Not smiling, Young       0.66      0.99      0.79      2585\n",
      "  Female, Not smiling, Old       0.00      0.00      0.00       198\n",
      "    Female, Smiling, Young       0.79      0.81      0.80      2447\n",
      "      Female, Smiling, Old       0.81      0.14      0.24       459\n",
      "  Male, Not smiling, Young       0.57      0.67      0.61      1226\n",
      "    Male, Not smiling, Old       0.49      0.33      0.39       749\n",
      "      Male, Smiling, Young       0.78      0.41      0.54       747\n",
      "        Male, Smiling, Old       0.86      0.33      0.48       589\n",
      "\n",
      "                  accuracy                           0.68      9000\n",
      "                 macro avg       0.62      0.46      0.48      9000\n",
      "              weighted avg       0.68      0.68      0.65      9000\n",
      "\n",
      "Training: Epoch 18 ------------------\n",
      "Batch     0: Loss per batch is 1.540212 and Accuracy is 0.386719\n",
      "For Iteration: Loss is 1.568470 and Accuracy is 0.382762\n",
      "----Test: Epoch 18 ------------------\n"
     ]
    },
    {
     "name": "stderr",
     "output_type": "stream",
     "text": [
      "/home/hyunjun/anaconda3/envs/test/lib/python3.7/site-packages/sklearn/metrics/_classification.py:1318: UndefinedMetricWarning: Precision and F-score are ill-defined and being set to 0.0 in labels with no predicted samples. Use `zero_division` parameter to control this behavior.\n",
      "  _warn_prf(average, modifier, msg_start, len(result))\n",
      "/home/hyunjun/anaconda3/envs/test/lib/python3.7/site-packages/sklearn/metrics/_classification.py:1318: UndefinedMetricWarning: Precision and F-score are ill-defined and being set to 0.0 in labels with no predicted samples. Use `zero_division` parameter to control this behavior.\n",
      "  _warn_prf(average, modifier, msg_start, len(result))\n",
      "/home/hyunjun/anaconda3/envs/test/lib/python3.7/site-packages/sklearn/metrics/_classification.py:1318: UndefinedMetricWarning: Precision and F-score are ill-defined and being set to 0.0 in labels with no predicted samples. Use `zero_division` parameter to control this behavior.\n",
      "  _warn_prf(average, modifier, msg_start, len(result))\n"
     ]
    },
    {
     "name": "stdout",
     "output_type": "stream",
     "text": [
      "                            precision    recall  f1-score   support\n",
      "\n",
      "Female, Not smiling, Young       0.85      0.90      0.88      2585\n",
      "  Female, Not smiling, Old       0.00      0.00      0.00       198\n",
      "    Female, Smiling, Young       0.77      0.95      0.85      2447\n",
      "      Female, Smiling, Old       0.81      0.21      0.34       459\n",
      "  Male, Not smiling, Young       0.65      0.80      0.72      1226\n",
      "    Male, Not smiling, Old       0.68      0.33      0.44       749\n",
      "      Male, Smiling, Young       0.69      0.74      0.71       747\n",
      "        Male, Smiling, Old       0.70      0.52      0.59       589\n",
      "\n",
      "                  accuracy                           0.76      9000\n",
      "                 macro avg       0.64      0.56      0.57      9000\n",
      "              weighted avg       0.74      0.76      0.73      9000\n",
      "\n",
      "Training: Epoch 19 ------------------\n",
      "Batch     0: Loss per batch is 0.967408 and Accuracy is 0.681641\n",
      "For Iteration: Loss is 0.952278 and Accuracy is 0.693333\n",
      "----Test: Epoch 19 ------------------\n"
     ]
    },
    {
     "name": "stderr",
     "output_type": "stream",
     "text": [
      "/home/hyunjun/anaconda3/envs/test/lib/python3.7/site-packages/sklearn/metrics/_classification.py:1318: UndefinedMetricWarning: Precision and F-score are ill-defined and being set to 0.0 in labels with no predicted samples. Use `zero_division` parameter to control this behavior.\n",
      "  _warn_prf(average, modifier, msg_start, len(result))\n",
      "/home/hyunjun/anaconda3/envs/test/lib/python3.7/site-packages/sklearn/metrics/_classification.py:1318: UndefinedMetricWarning: Precision and F-score are ill-defined and being set to 0.0 in labels with no predicted samples. Use `zero_division` parameter to control this behavior.\n",
      "  _warn_prf(average, modifier, msg_start, len(result))\n",
      "/home/hyunjun/anaconda3/envs/test/lib/python3.7/site-packages/sklearn/metrics/_classification.py:1318: UndefinedMetricWarning: Precision and F-score are ill-defined and being set to 0.0 in labels with no predicted samples. Use `zero_division` parameter to control this behavior.\n",
      "  _warn_prf(average, modifier, msg_start, len(result))\n"
     ]
    },
    {
     "name": "stdout",
     "output_type": "stream",
     "text": [
      "                            precision    recall  f1-score   support\n",
      "\n",
      "Female, Not smiling, Young       0.87      0.91      0.89      2585\n",
      "  Female, Not smiling, Old       0.00      0.00      0.00       198\n",
      "    Female, Smiling, Young       0.79      0.94      0.85      2447\n",
      "      Female, Smiling, Old       0.89      0.17      0.29       459\n",
      "  Male, Not smiling, Young       0.68      0.81      0.74      1226\n",
      "    Male, Not smiling, Old       0.65      0.38      0.48       749\n",
      "      Male, Smiling, Young       0.63      0.83      0.71       747\n",
      "        Male, Smiling, Old       0.73      0.50      0.59       589\n",
      "\n",
      "                  accuracy                           0.77      9000\n",
      "                 macro avg       0.65      0.57      0.57      9000\n",
      "              weighted avg       0.75      0.77      0.74      9000\n",
      "\n",
      "Training: Epoch 20 ------------------\n",
      "Batch     0: Loss per batch is 1.316837 and Accuracy is 0.449219\n",
      "For Iteration: Loss is 1.367004 and Accuracy is 0.465000\n",
      "----Test: Epoch 20 ------------------\n"
     ]
    },
    {
     "name": "stderr",
     "output_type": "stream",
     "text": [
      "/home/hyunjun/anaconda3/envs/test/lib/python3.7/site-packages/sklearn/metrics/_classification.py:1318: UndefinedMetricWarning: Precision and F-score are ill-defined and being set to 0.0 in labels with no predicted samples. Use `zero_division` parameter to control this behavior.\n",
      "  _warn_prf(average, modifier, msg_start, len(result))\n",
      "/home/hyunjun/anaconda3/envs/test/lib/python3.7/site-packages/sklearn/metrics/_classification.py:1318: UndefinedMetricWarning: Precision and F-score are ill-defined and being set to 0.0 in labels with no predicted samples. Use `zero_division` parameter to control this behavior.\n",
      "  _warn_prf(average, modifier, msg_start, len(result))\n",
      "/home/hyunjun/anaconda3/envs/test/lib/python3.7/site-packages/sklearn/metrics/_classification.py:1318: UndefinedMetricWarning: Precision and F-score are ill-defined and being set to 0.0 in labels with no predicted samples. Use `zero_division` parameter to control this behavior.\n",
      "  _warn_prf(average, modifier, msg_start, len(result))\n"
     ]
    },
    {
     "name": "stdout",
     "output_type": "stream",
     "text": [
      "                            precision    recall  f1-score   support\n",
      "\n",
      "Female, Not smiling, Young       0.74      0.97      0.84      2585\n",
      "  Female, Not smiling, Old       0.00      0.00      0.00       198\n",
      "    Female, Smiling, Young       0.83      0.87      0.85      2447\n",
      "      Female, Smiling, Old       0.76      0.29      0.42       459\n",
      "  Male, Not smiling, Young       0.69      0.67      0.68      1226\n",
      "    Male, Not smiling, Old       0.53      0.57      0.55       749\n",
      "      Male, Smiling, Young       0.88      0.49      0.63       747\n",
      "        Male, Smiling, Old       0.70      0.53      0.61       589\n",
      "\n",
      "                  accuracy                           0.74      9000\n",
      "                 macro avg       0.64      0.55      0.57      9000\n",
      "              weighted avg       0.73      0.74      0.72      9000\n",
      "\n",
      "Training: Epoch 21 ------------------\n",
      "Batch     0: Loss per batch is 1.505445 and Accuracy is 0.367188\n",
      "For Iteration: Loss is 1.560863 and Accuracy is 0.370667\n",
      "----Test: Epoch 21 ------------------\n"
     ]
    },
    {
     "name": "stderr",
     "output_type": "stream",
     "text": [
      "/home/hyunjun/anaconda3/envs/test/lib/python3.7/site-packages/sklearn/metrics/_classification.py:1318: UndefinedMetricWarning: Precision and F-score are ill-defined and being set to 0.0 in labels with no predicted samples. Use `zero_division` parameter to control this behavior.\n",
      "  _warn_prf(average, modifier, msg_start, len(result))\n",
      "/home/hyunjun/anaconda3/envs/test/lib/python3.7/site-packages/sklearn/metrics/_classification.py:1318: UndefinedMetricWarning: Precision and F-score are ill-defined and being set to 0.0 in labels with no predicted samples. Use `zero_division` parameter to control this behavior.\n",
      "  _warn_prf(average, modifier, msg_start, len(result))\n",
      "/home/hyunjun/anaconda3/envs/test/lib/python3.7/site-packages/sklearn/metrics/_classification.py:1318: UndefinedMetricWarning: Precision and F-score are ill-defined and being set to 0.0 in labels with no predicted samples. Use `zero_division` parameter to control this behavior.\n",
      "  _warn_prf(average, modifier, msg_start, len(result))\n"
     ]
    },
    {
     "name": "stdout",
     "output_type": "stream",
     "text": [
      "                            precision    recall  f1-score   support\n",
      "\n",
      "Female, Not smiling, Young       0.86      0.92      0.89      2585\n",
      "  Female, Not smiling, Old       0.00      0.00      0.00       198\n",
      "    Female, Smiling, Young       0.83      0.92      0.88      2447\n",
      "      Female, Smiling, Old       0.73      0.42      0.54       459\n",
      "  Male, Not smiling, Young       0.75      0.77      0.76      1226\n",
      "    Male, Not smiling, Old       0.58      0.58      0.58       749\n",
      "      Male, Smiling, Young       0.83      0.63      0.71       747\n",
      "        Male, Smiling, Old       0.64      0.74      0.68       589\n",
      "\n",
      "                  accuracy                           0.79      9000\n",
      "                 macro avg       0.65      0.62      0.63      9000\n",
      "              weighted avg       0.77      0.79      0.78      9000\n",
      "\n",
      "Training: Epoch 22 ------------------\n",
      "Batch     0: Loss per batch is 0.854613 and Accuracy is 0.767578\n",
      "For Iteration: Loss is 0.875523 and Accuracy is 0.742952\n",
      "----Test: Epoch 22 ------------------\n"
     ]
    },
    {
     "name": "stderr",
     "output_type": "stream",
     "text": [
      "/home/hyunjun/anaconda3/envs/test/lib/python3.7/site-packages/sklearn/metrics/_classification.py:1318: UndefinedMetricWarning: Precision and F-score are ill-defined and being set to 0.0 in labels with no predicted samples. Use `zero_division` parameter to control this behavior.\n",
      "  _warn_prf(average, modifier, msg_start, len(result))\n",
      "/home/hyunjun/anaconda3/envs/test/lib/python3.7/site-packages/sklearn/metrics/_classification.py:1318: UndefinedMetricWarning: Precision and F-score are ill-defined and being set to 0.0 in labels with no predicted samples. Use `zero_division` parameter to control this behavior.\n",
      "  _warn_prf(average, modifier, msg_start, len(result))\n",
      "/home/hyunjun/anaconda3/envs/test/lib/python3.7/site-packages/sklearn/metrics/_classification.py:1318: UndefinedMetricWarning: Precision and F-score are ill-defined and being set to 0.0 in labels with no predicted samples. Use `zero_division` parameter to control this behavior.\n",
      "  _warn_prf(average, modifier, msg_start, len(result))\n"
     ]
    },
    {
     "name": "stdout",
     "output_type": "stream",
     "text": [
      "                            precision    recall  f1-score   support\n",
      "\n",
      "Female, Not smiling, Young       0.80      0.96      0.87      2585\n",
      "  Female, Not smiling, Old       0.00      0.00      0.00       198\n",
      "    Female, Smiling, Young       0.87      0.84      0.85      2447\n",
      "      Female, Smiling, Old       0.69      0.40      0.51       459\n",
      "  Male, Not smiling, Young       0.70      0.75      0.72      1226\n",
      "    Male, Not smiling, Old       0.46      0.66      0.54       749\n",
      "      Male, Smiling, Young       0.85      0.54      0.66       747\n",
      "        Male, Smiling, Old       0.62      0.44      0.51       589\n",
      "\n",
      "                  accuracy                           0.75      9000\n",
      "                 macro avg       0.62      0.57      0.58      9000\n",
      "              weighted avg       0.75      0.75      0.74      9000\n",
      "\n",
      "Training: Epoch 23 ------------------\n",
      "Batch     0: Loss per batch is 1.751100 and Accuracy is 0.337891\n",
      "For Iteration: Loss is 1.732440 and Accuracy is 0.334429\n",
      "----Test: Epoch 23 ------------------\n"
     ]
    },
    {
     "name": "stderr",
     "output_type": "stream",
     "text": [
      "/home/hyunjun/anaconda3/envs/test/lib/python3.7/site-packages/sklearn/metrics/_classification.py:1318: UndefinedMetricWarning: Precision and F-score are ill-defined and being set to 0.0 in labels with no predicted samples. Use `zero_division` parameter to control this behavior.\n",
      "  _warn_prf(average, modifier, msg_start, len(result))\n",
      "/home/hyunjun/anaconda3/envs/test/lib/python3.7/site-packages/sklearn/metrics/_classification.py:1318: UndefinedMetricWarning: Precision and F-score are ill-defined and being set to 0.0 in labels with no predicted samples. Use `zero_division` parameter to control this behavior.\n",
      "  _warn_prf(average, modifier, msg_start, len(result))\n",
      "/home/hyunjun/anaconda3/envs/test/lib/python3.7/site-packages/sklearn/metrics/_classification.py:1318: UndefinedMetricWarning: Precision and F-score are ill-defined and being set to 0.0 in labels with no predicted samples. Use `zero_division` parameter to control this behavior.\n",
      "  _warn_prf(average, modifier, msg_start, len(result))\n"
     ]
    },
    {
     "name": "stdout",
     "output_type": "stream",
     "text": [
      "                            precision    recall  f1-score   support\n",
      "\n",
      "Female, Not smiling, Young       0.86      0.90      0.88      2585\n",
      "  Female, Not smiling, Old       0.00      0.00      0.00       198\n",
      "    Female, Smiling, Young       0.84      0.90      0.87      2447\n",
      "      Female, Smiling, Old       0.73      0.44      0.55       459\n",
      "  Male, Not smiling, Young       0.57      0.90      0.70      1226\n",
      "    Male, Not smiling, Old       0.49      0.38      0.43       749\n",
      "      Male, Smiling, Young       0.83      0.57      0.67       747\n",
      "        Male, Smiling, Old       0.73      0.46      0.56       589\n",
      "\n",
      "                  accuracy                           0.76      9000\n",
      "                 macro avg       0.63      0.57      0.58      9000\n",
      "              weighted avg       0.75      0.76      0.74      9000\n",
      "\n",
      "Training: Epoch 24 ------------------\n",
      "Batch     0: Loss per batch is 1.427742 and Accuracy is 0.394531\n",
      "For Iteration: Loss is 1.572821 and Accuracy is 0.365476\n",
      "----Test: Epoch 24 ------------------\n"
     ]
    },
    {
     "name": "stderr",
     "output_type": "stream",
     "text": [
      "/home/hyunjun/anaconda3/envs/test/lib/python3.7/site-packages/sklearn/metrics/_classification.py:1318: UndefinedMetricWarning: Precision and F-score are ill-defined and being set to 0.0 in labels with no predicted samples. Use `zero_division` parameter to control this behavior.\n",
      "  _warn_prf(average, modifier, msg_start, len(result))\n",
      "/home/hyunjun/anaconda3/envs/test/lib/python3.7/site-packages/sklearn/metrics/_classification.py:1318: UndefinedMetricWarning: Precision and F-score are ill-defined and being set to 0.0 in labels with no predicted samples. Use `zero_division` parameter to control this behavior.\n",
      "  _warn_prf(average, modifier, msg_start, len(result))\n",
      "/home/hyunjun/anaconda3/envs/test/lib/python3.7/site-packages/sklearn/metrics/_classification.py:1318: UndefinedMetricWarning: Precision and F-score are ill-defined and being set to 0.0 in labels with no predicted samples. Use `zero_division` parameter to control this behavior.\n",
      "  _warn_prf(average, modifier, msg_start, len(result))\n"
     ]
    },
    {
     "name": "stdout",
     "output_type": "stream",
     "text": [
      "                            precision    recall  f1-score   support\n",
      "\n",
      "Female, Not smiling, Young       0.89      0.86      0.88      2585\n",
      "  Female, Not smiling, Old       0.00      0.00      0.00       198\n",
      "    Female, Smiling, Young       0.79      0.95      0.86      2447\n",
      "      Female, Smiling, Old       0.76      0.32      0.46       459\n",
      "  Male, Not smiling, Young       0.74      0.72      0.73      1226\n",
      "    Male, Not smiling, Old       0.55      0.61      0.57       749\n",
      "      Male, Smiling, Young       0.75      0.70      0.72       747\n",
      "        Male, Smiling, Old       0.64      0.68      0.66       589\n",
      "\n",
      "                  accuracy                           0.77      9000\n",
      "                 macro avg       0.64      0.61      0.61      9000\n",
      "              weighted avg       0.76      0.77      0.76      9000\n",
      "\n",
      "Training: Epoch 25 ------------------\n",
      "Batch     0: Loss per batch is 1.054316 and Accuracy is 0.673828\n",
      "For Iteration: Loss is 1.008878 and Accuracy is 0.664143\n",
      "----Test: Epoch 25 ------------------\n"
     ]
    },
    {
     "name": "stderr",
     "output_type": "stream",
     "text": [
      "/home/hyunjun/anaconda3/envs/test/lib/python3.7/site-packages/sklearn/metrics/_classification.py:1318: UndefinedMetricWarning: Precision and F-score are ill-defined and being set to 0.0 in labels with no predicted samples. Use `zero_division` parameter to control this behavior.\n",
      "  _warn_prf(average, modifier, msg_start, len(result))\n",
      "/home/hyunjun/anaconda3/envs/test/lib/python3.7/site-packages/sklearn/metrics/_classification.py:1318: UndefinedMetricWarning: Precision and F-score are ill-defined and being set to 0.0 in labels with no predicted samples. Use `zero_division` parameter to control this behavior.\n",
      "  _warn_prf(average, modifier, msg_start, len(result))\n",
      "/home/hyunjun/anaconda3/envs/test/lib/python3.7/site-packages/sklearn/metrics/_classification.py:1318: UndefinedMetricWarning: Precision and F-score are ill-defined and being set to 0.0 in labels with no predicted samples. Use `zero_division` parameter to control this behavior.\n",
      "  _warn_prf(average, modifier, msg_start, len(result))\n"
     ]
    },
    {
     "name": "stdout",
     "output_type": "stream",
     "text": [
      "                            precision    recall  f1-score   support\n",
      "\n",
      "Female, Not smiling, Young       0.80      0.94      0.87      2585\n",
      "  Female, Not smiling, Old       0.00      0.00      0.00       198\n",
      "    Female, Smiling, Young       0.77      0.93      0.84      2447\n",
      "      Female, Smiling, Old       0.91      0.14      0.24       459\n",
      "  Male, Not smiling, Young       0.67      0.75      0.71      1226\n",
      "    Male, Not smiling, Old       0.68      0.38      0.49       749\n",
      "      Male, Smiling, Young       0.66      0.73      0.69       747\n",
      "        Male, Smiling, Old       0.78      0.47      0.59       589\n",
      "\n",
      "                  accuracy                           0.75      9000\n",
      "                 macro avg       0.66      0.54      0.55      9000\n",
      "              weighted avg       0.74      0.75      0.72      9000\n",
      "\n",
      "Training: Epoch 26 ------------------\n",
      "Batch     0: Loss per batch is 1.735972 and Accuracy is 0.296875\n",
      "For Iteration: Loss is 1.857056 and Accuracy is 0.267905\n",
      "----Test: Epoch 26 ------------------\n"
     ]
    },
    {
     "name": "stderr",
     "output_type": "stream",
     "text": [
      "/home/hyunjun/anaconda3/envs/test/lib/python3.7/site-packages/sklearn/metrics/_classification.py:1318: UndefinedMetricWarning: Precision and F-score are ill-defined and being set to 0.0 in labels with no predicted samples. Use `zero_division` parameter to control this behavior.\n",
      "  _warn_prf(average, modifier, msg_start, len(result))\n",
      "/home/hyunjun/anaconda3/envs/test/lib/python3.7/site-packages/sklearn/metrics/_classification.py:1318: UndefinedMetricWarning: Precision and F-score are ill-defined and being set to 0.0 in labels with no predicted samples. Use `zero_division` parameter to control this behavior.\n",
      "  _warn_prf(average, modifier, msg_start, len(result))\n",
      "/home/hyunjun/anaconda3/envs/test/lib/python3.7/site-packages/sklearn/metrics/_classification.py:1318: UndefinedMetricWarning: Precision and F-score are ill-defined and being set to 0.0 in labels with no predicted samples. Use `zero_division` parameter to control this behavior.\n",
      "  _warn_prf(average, modifier, msg_start, len(result))\n"
     ]
    },
    {
     "name": "stdout",
     "output_type": "stream",
     "text": [
      "                            precision    recall  f1-score   support\n",
      "\n",
      "Female, Not smiling, Young       0.81      0.94      0.87      2585\n",
      "  Female, Not smiling, Old       0.00      0.00      0.00       198\n",
      "    Female, Smiling, Young       0.88      0.83      0.86      2447\n",
      "      Female, Smiling, Old       0.51      0.58      0.54       459\n",
      "  Male, Not smiling, Young       0.80      0.45      0.58      1226\n",
      "    Male, Not smiling, Old       0.48      0.54      0.50       749\n",
      "      Male, Smiling, Young       0.73      0.60      0.66       747\n",
      "        Male, Smiling, Old       0.46      0.80      0.59       589\n",
      "\n",
      "                  accuracy                           0.73      9000\n",
      "                 macro avg       0.58      0.59      0.58      9000\n",
      "              weighted avg       0.74      0.73      0.72      9000\n",
      "\n",
      "Training: Epoch 27 ------------------\n",
      "Batch     0: Loss per batch is 1.366002 and Accuracy is 0.427734\n",
      "For Iteration: Loss is 1.366179 and Accuracy is 0.440619\n",
      "----Test: Epoch 27 ------------------\n"
     ]
    },
    {
     "name": "stderr",
     "output_type": "stream",
     "text": [
      "/home/hyunjun/anaconda3/envs/test/lib/python3.7/site-packages/sklearn/metrics/_classification.py:1318: UndefinedMetricWarning: Precision and F-score are ill-defined and being set to 0.0 in labels with no predicted samples. Use `zero_division` parameter to control this behavior.\n",
      "  _warn_prf(average, modifier, msg_start, len(result))\n",
      "/home/hyunjun/anaconda3/envs/test/lib/python3.7/site-packages/sklearn/metrics/_classification.py:1318: UndefinedMetricWarning: Precision and F-score are ill-defined and being set to 0.0 in labels with no predicted samples. Use `zero_division` parameter to control this behavior.\n",
      "  _warn_prf(average, modifier, msg_start, len(result))\n",
      "/home/hyunjun/anaconda3/envs/test/lib/python3.7/site-packages/sklearn/metrics/_classification.py:1318: UndefinedMetricWarning: Precision and F-score are ill-defined and being set to 0.0 in labels with no predicted samples. Use `zero_division` parameter to control this behavior.\n",
      "  _warn_prf(average, modifier, msg_start, len(result))\n"
     ]
    },
    {
     "name": "stdout",
     "output_type": "stream",
     "text": [
      "                            precision    recall  f1-score   support\n",
      "\n",
      "Female, Not smiling, Young       0.81      0.93      0.87      2585\n",
      "  Female, Not smiling, Old       0.00      0.00      0.00       198\n",
      "    Female, Smiling, Young       0.76      0.94      0.84      2447\n",
      "      Female, Smiling, Old       0.67      0.10      0.18       459\n",
      "  Male, Not smiling, Young       0.65      0.77      0.70      1226\n",
      "    Male, Not smiling, Old       0.65      0.37      0.47       749\n",
      "      Male, Smiling, Young       0.67      0.71      0.69       747\n",
      "        Male, Smiling, Old       0.84      0.38      0.53       589\n",
      "\n",
      "                  accuracy                           0.75      9000\n",
      "                 macro avg       0.63      0.53      0.53      9000\n",
      "              weighted avg       0.73      0.75      0.71      9000\n",
      "\n",
      "Training: Epoch 28 ------------------\n",
      "Batch     0: Loss per batch is 1.316260 and Accuracy is 0.441406\n",
      "For Iteration: Loss is 1.288796 and Accuracy is 0.458095\n",
      "----Test: Epoch 28 ------------------\n"
     ]
    },
    {
     "name": "stderr",
     "output_type": "stream",
     "text": [
      "/home/hyunjun/anaconda3/envs/test/lib/python3.7/site-packages/sklearn/metrics/_classification.py:1318: UndefinedMetricWarning: Precision and F-score are ill-defined and being set to 0.0 in labels with no predicted samples. Use `zero_division` parameter to control this behavior.\n",
      "  _warn_prf(average, modifier, msg_start, len(result))\n",
      "/home/hyunjun/anaconda3/envs/test/lib/python3.7/site-packages/sklearn/metrics/_classification.py:1318: UndefinedMetricWarning: Precision and F-score are ill-defined and being set to 0.0 in labels with no predicted samples. Use `zero_division` parameter to control this behavior.\n",
      "  _warn_prf(average, modifier, msg_start, len(result))\n",
      "/home/hyunjun/anaconda3/envs/test/lib/python3.7/site-packages/sklearn/metrics/_classification.py:1318: UndefinedMetricWarning: Precision and F-score are ill-defined and being set to 0.0 in labels with no predicted samples. Use `zero_division` parameter to control this behavior.\n",
      "  _warn_prf(average, modifier, msg_start, len(result))\n"
     ]
    },
    {
     "name": "stdout",
     "output_type": "stream",
     "text": [
      "                            precision    recall  f1-score   support\n",
      "\n",
      "Female, Not smiling, Young       0.84      0.93      0.88      2585\n",
      "  Female, Not smiling, Old       0.00      0.00      0.00       198\n",
      "    Female, Smiling, Young       0.81      0.93      0.87      2447\n",
      "      Female, Smiling, Old       0.76      0.39      0.52       459\n",
      "  Male, Not smiling, Young       0.74      0.73      0.74      1226\n",
      "    Male, Not smiling, Old       0.57      0.61      0.59       749\n",
      "      Male, Smiling, Young       0.82      0.60      0.69       747\n",
      "        Male, Smiling, Old       0.70      0.65      0.67       589\n",
      "\n",
      "                  accuracy                           0.78      9000\n",
      "                 macro avg       0.66      0.60      0.62      9000\n",
      "              weighted avg       0.76      0.78      0.77      9000\n",
      "\n",
      "Training: Epoch 29 ------------------\n",
      "Batch     0: Loss per batch is 1.867885 and Accuracy is 0.273438\n",
      "For Iteration: Loss is 1.863139 and Accuracy is 0.246333\n",
      "----Test: Epoch 29 ------------------\n"
     ]
    },
    {
     "name": "stderr",
     "output_type": "stream",
     "text": [
      "/home/hyunjun/anaconda3/envs/test/lib/python3.7/site-packages/sklearn/metrics/_classification.py:1318: UndefinedMetricWarning: Precision and F-score are ill-defined and being set to 0.0 in labels with no predicted samples. Use `zero_division` parameter to control this behavior.\n",
      "  _warn_prf(average, modifier, msg_start, len(result))\n",
      "/home/hyunjun/anaconda3/envs/test/lib/python3.7/site-packages/sklearn/metrics/_classification.py:1318: UndefinedMetricWarning: Precision and F-score are ill-defined and being set to 0.0 in labels with no predicted samples. Use `zero_division` parameter to control this behavior.\n",
      "  _warn_prf(average, modifier, msg_start, len(result))\n",
      "/home/hyunjun/anaconda3/envs/test/lib/python3.7/site-packages/sklearn/metrics/_classification.py:1318: UndefinedMetricWarning: Precision and F-score are ill-defined and being set to 0.0 in labels with no predicted samples. Use `zero_division` parameter to control this behavior.\n",
      "  _warn_prf(average, modifier, msg_start, len(result))\n"
     ]
    },
    {
     "name": "stdout",
     "output_type": "stream",
     "text": [
      "                            precision    recall  f1-score   support\n",
      "\n",
      "Female, Not smiling, Young       0.61      0.99      0.75      2585\n",
      "  Female, Not smiling, Old       0.00      0.00      0.00       198\n",
      "    Female, Smiling, Young       0.81      0.77      0.79      2447\n",
      "      Female, Smiling, Old       0.75      0.21      0.33       459\n",
      "  Male, Not smiling, Young       0.55      0.56      0.56      1226\n",
      "    Male, Not smiling, Old       0.54      0.29      0.38       749\n",
      "      Male, Smiling, Young       0.80      0.45      0.58       747\n",
      "        Male, Smiling, Old       0.83      0.40      0.54       589\n",
      "\n",
      "                  accuracy                           0.67      9000\n",
      "                 macro avg       0.61      0.46      0.49      9000\n",
      "              weighted avg       0.68      0.67      0.64      9000\n",
      "\n",
      "Training: Epoch 30 ------------------\n",
      "Batch     0: Loss per batch is 1.162651 and Accuracy is 0.652344\n",
      "For Iteration: Loss is 1.244878 and Accuracy is 0.560333\n",
      "----Test: Epoch 30 ------------------\n",
      "                            precision    recall  f1-score   support\n",
      "\n",
      "Female, Not smiling, Young       0.84      0.76      0.80      2585\n",
      "  Female, Not smiling, Old       0.00      0.00      0.00       198\n",
      "    Female, Smiling, Young       0.62      0.98      0.76      2447\n",
      "      Female, Smiling, Old       0.53      0.05      0.09       459\n",
      "  Male, Not smiling, Young       0.74      0.57      0.64      1226\n",
      "    Male, Not smiling, Old       0.73      0.20      0.31       749\n",
      "      Male, Smiling, Young       0.49      0.76      0.60       747\n",
      "        Male, Smiling, Old       0.53      0.40      0.46       589\n",
      "\n",
      "                  accuracy                           0.67      9000\n",
      "                 macro avg       0.56      0.46      0.46      9000\n",
      "              weighted avg       0.67      0.67      0.63      9000\n",
      "\n"
     ]
    },
    {
     "name": "stderr",
     "output_type": "stream",
     "text": [
      "/home/hyunjun/anaconda3/envs/test/lib/python3.7/site-packages/sklearn/metrics/_classification.py:1318: UndefinedMetricWarning: Precision and F-score are ill-defined and being set to 0.0 in labels with no predicted samples. Use `zero_division` parameter to control this behavior.\n",
      "  _warn_prf(average, modifier, msg_start, len(result))\n",
      "/home/hyunjun/anaconda3/envs/test/lib/python3.7/site-packages/sklearn/metrics/_classification.py:1318: UndefinedMetricWarning: Precision and F-score are ill-defined and being set to 0.0 in labels with no predicted samples. Use `zero_division` parameter to control this behavior.\n",
      "  _warn_prf(average, modifier, msg_start, len(result))\n",
      "/home/hyunjun/anaconda3/envs/test/lib/python3.7/site-packages/sklearn/metrics/_classification.py:1318: UndefinedMetricWarning: Precision and F-score are ill-defined and being set to 0.0 in labels with no predicted samples. Use `zero_division` parameter to control this behavior.\n",
      "  _warn_prf(average, modifier, msg_start, len(result))\n"
     ]
    }
   ],
   "source": [
    "max = 0.0\n",
    "for epoch in range(n_epochs):\n",
    "    print(f\"Training: Epoch {epoch + 1} ------------------\")\n",
    "    train_loop(train_loader, model, criterion, optimizer, epoch + 1)\n",
    "    print(f\"----Test: Epoch {epoch + 1} ------------------\")\n",
    "    temp = test_loop(test_loader, model, criterion)\n",
    "    \n",
    "    # if temp > max:\n",
    "    #     max = temp\n",
    "    #     torch.save(model, './celebAHQ_split_effib0_v3.pt')"
   ]
  },
  {
   "cell_type": "code",
   "execution_count": 9,
   "metadata": {},
   "outputs": [],
   "source": [
    "torch.save(model, './celebA_split_resnet18_v3_batch512.pt')"
   ]
  }
 ],
 "metadata": {
  "kernelspec": {
   "display_name": "test",
   "language": "python",
   "name": "python3"
  },
  "language_info": {
   "codemirror_mode": {
    "name": "ipython",
    "version": 3
   },
   "file_extension": ".py",
   "mimetype": "text/x-python",
   "name": "python",
   "nbconvert_exporter": "python",
   "pygments_lexer": "ipython3",
   "version": "3.7.13"
  },
  "orig_nbformat": 4
 },
 "nbformat": 4,
 "nbformat_minor": 2
}
