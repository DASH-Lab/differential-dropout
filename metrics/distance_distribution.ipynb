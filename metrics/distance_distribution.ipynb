{
 "cells": [
  {
   "cell_type": "code",
   "execution_count": 1,
   "metadata": {},
   "outputs": [],
   "source": [
    "import torch\n",
    "import torch.nn as nn\n",
    "from torch.utils.data import DataLoader, Dataset\n",
    "import torchvision\n",
    "import torchvision.transforms as transforms\n",
    "import numpy as np\n",
    "import matplotlib.pyplot as plt\n",
    "from sklearn.metrics.pairwise import cosine_similarity\n",
    "from sklearn.metrics import DistanceMetric\n",
    "from scipy.spatial.distance import mahalanobis\n",
    "import os\n",
    "import sys\n",
    "from PIL import Image\n",
    "sys.path.append('../models')\n",
    "import ResNet as resnet\n",
    "import DenseNet as densenet\n",
    "import EfficientNet as efficientnet\n",
    "import MobileNetV2 as mobilenet\n",
    "import ViT as vit\n",
    "\n",
    "import seaborn as sns"
   ]
  },
  {
   "cell_type": "code",
   "execution_count": 2,
   "metadata": {},
   "outputs": [],
   "source": [
    "os.environ[\"CUDA_DEVICE_ORDER\"] = \"PCI_BUS_ID\"\n",
    "os.environ[\"CUDA_VISIBLE_DEVICES\"] = \"2\"\n",
    "\n",
    "device = torch.device('cuda' if torch.cuda.is_available() else 'cpu')"
   ]
  },
  {
   "cell_type": "code",
   "execution_count": 3,
   "metadata": {},
   "outputs": [],
   "source": [
    "##########################################\n",
    "######### Configure Metric Setting ####### \n",
    "##########################################\n",
    "batch_size = 64\n",
    "weight_path = './weights/cifar10/cifar10_resnet18_base.pt'\n",
    "model_base = torch.load(weight_path)\n",
    "weight_path = './weights/cifar10/cifar10_resnet18_v3.pt'\n",
    "model_private = torch.load(weight_path)\n",
    "criterion = nn.CrossEntropyLoss()\n",
    "member_path = '/media/data1/hyunjun/cifar-10/train/'\n",
    "nonmember_path = '/media/data1/hyunjun/cifar-10/test/'\n",
    "data = 'Cifar-10'\n",
    "##########################################\n",
    "##########################################"
   ]
  },
  {
   "cell_type": "code",
   "execution_count": 4,
   "metadata": {},
   "outputs": [],
   "source": [
    "class CustomDataset(Dataset):\n",
    "    def __init__(self, root_dir, transform=None):\n",
    "        self.transform = transform\n",
    "        self.root_dir = root_dir\n",
    "        \n",
    "        self.image_paths = []\n",
    "        for data_path in os.listdir(root_dir):\n",
    "            self.image_paths.append(data_path)\n",
    "        \n",
    "    def __len__(self):\n",
    "        return len(self.image_paths)\n",
    "    \n",
    "    def __getitem__(self, index):\n",
    "        image_file_path = os.path.join(self.root_dir, self.image_paths[index])\n",
    "        image = Image.open(image_file_path)\n",
    "        \n",
    "        label = 0\n",
    "        \n",
    "        if self.transform is not None:\n",
    "            image = self.transform(image)\n",
    "        \n",
    "        return image, label"
   ]
  },
  {
   "cell_type": "code",
   "execution_count": 5,
   "metadata": {},
   "outputs": [],
   "source": [
    "mean, std = (0.485, 0.456, 0.406), (0.229, 0.224, 0.225) \n",
    "if data == 'Cifar-10':\n",
    "    mean, std = (0.491, 0.482, 0.447), (0.247, 0.243, 0.262)\n",
    "elif data == 'CelebA':\n",
    "    mean, std = (0.485, 0.456, 0.406), (0.229, 0.224, 0.225)\n",
    "\n",
    "trans = transforms.Compose([\n",
    "    transforms.Resize((224, 224)),\n",
    "    transforms.ToTensor(),\n",
    "    transforms.Normalize(mean, std),\n",
    "])\n",
    "\n",
    "model_base.to(device)\n",
    "model_base.eval()\n",
    "model_private.to(device)\n",
    "model_private.eval()\n",
    "\n",
    "nonmember_set = torchvision.datasets.ImageFolder(root=nonmember_path, transform=trans)\n",
    "nonmember_loader = DataLoader(nonmember_set, batch_size=batch_size, shuffle=True, drop_last=False,)\n",
    "member_set = torchvision.datasets.ImageFolder(root=member_path, transform=trans)\n",
    "member_loader = DataLoader(member_set, batch_size=batch_size, shuffle=True, drop_last=False,)"
   ]
  },
  {
   "cell_type": "code",
   "execution_count": 6,
   "metadata": {},
   "outputs": [],
   "source": [
    "latent_vectors_base = [[] for _ in range(10)]\n",
    "latent_vectors_private = [[] for _ in range(10)]\n",
    "\n",
    "with torch.no_grad():\n",
    "    for data in member_loader:\n",
    "        images, labels = data[0].to(device), data[1].to(device)\n",
    "        labels = labels.cpu().numpy().tolist()\n",
    "        \n",
    "        features, _ = model_base(images)\n",
    "        features = features.cpu().numpy().tolist()\n",
    "        for i in range(len(labels)):\n",
    "            latent_vectors_base[labels[i]].append(features[i])\n",
    "        \n",
    "        features, _ = model_private(images)\n",
    "        features = features.cpu().numpy().tolist()\n",
    "        for i in range(len(labels)):\n",
    "            latent_vectors_private[labels[i]].append(features[i])\n",
    "    \n",
    "    for data in nonmember_loader:\n",
    "        images, labels = data[0].to(device), data[1].to(device)\n",
    "        labels = labels.cpu().numpy().tolist()\n",
    "        \n",
    "        features, _ = model_base(images)\n",
    "        features = features.cpu().numpy().tolist()\n",
    "        for i in range(len(labels)):\n",
    "            latent_vectors_base[labels[i]].append(features[i])\n",
    "        \n",
    "        features, _ = model_private(images)\n",
    "        features = features.cpu().numpy().tolist()\n",
    "        for i in range(len(labels)):\n",
    "            latent_vectors_private[labels[i]].append(features[i])"
   ]
  },
  {
   "cell_type": "code",
   "execution_count": 11,
   "metadata": {},
   "outputs": [
    {
     "name": "stdout",
     "output_type": "stream",
     "text": [
      "#####################################\n",
      "### Calculating Cosine Similarity ###\n",
      "#####################################\n"
     ]
    },
    {
     "name": "stderr",
     "output_type": "stream",
     "text": [
      "/home/hyunjun/anaconda3/envs/test/lib/python3.7/site-packages/ipykernel_launcher.py:16: UserWarning: \n",
      "\n",
      "`distplot` is a deprecated function and will be removed in seaborn v0.14.0.\n",
      "\n",
      "Please adapt your code to use either `displot` (a figure-level function with\n",
      "similar flexibility) or `histplot` (an axes-level function for histograms).\n",
      "\n",
      "For a guide to updating your code to use the new functions, please see\n",
      "https://gist.github.com/mwaskom/de44147ed2974457ad6372750bbe5751\n",
      "\n",
      "  app.launch_new_instance()\n",
      "/home/hyunjun/anaconda3/envs/test/lib/python3.7/site-packages/ipykernel_launcher.py:17: UserWarning: \n",
      "\n",
      "`distplot` is a deprecated function and will be removed in seaborn v0.14.0.\n",
      "\n",
      "Please adapt your code to use either `displot` (a figure-level function with\n",
      "similar flexibility) or `histplot` (an axes-level function for histograms).\n",
      "\n",
      "For a guide to updating your code to use the new functions, please see\n",
      "https://gist.github.com/mwaskom/de44147ed2974457ad6372750bbe5751\n",
      "\n"
     ]
    },
    {
     "data": {
      "image/png": "[encoded data removed]",
      "text/plain": [
       "<Figure size 432x288 with 1 Axes>"
      ]
     },
     "metadata": {
      "needs_background": "light"
     },
     "output_type": "display_data"
    }
   ],
   "source": [
    "print(\"#####################################\")\n",
    "print(\"### Calculating Cosine Similarity ###\")\n",
    "print(\"#####################################\")\n",
    "\n",
    "cssm_base = np.array([])\n",
    "cssm_private = np.array([])\n",
    "for i in range(len(latent_vectors_base)):\n",
    "    temp = cosine_similarity(np.array(latent_vectors_base[i])).reshape(-1)\n",
    "    cssm_base = np.concatenate((cssm_base, temp))\n",
    "    # print(f\"max: {np.max(cssm_base):.4f}, min: {np.min(cssm_base):.4f}, mean: {np.mean(cssm_base):.4f}, var: {np.var(cssm_base):.4f}\")\n",
    "    \n",
    "    temp = cosine_similarity(np.array(latent_vectors_private[i])).reshape(-1)\n",
    "    cssm_private = np.concatenate((cssm_private, temp))\n",
    "    # print(f\"max: {np.max(cssm_private):.4f}, min: {np.min(cssm_private):.4f}, mean: {np.mean(cssm_private):.4f}, var: {np.var(cssm_private):.4f}\")\n",
    "\n",
    "sns.distplot(cssm_base, label=\"base\")\n",
    "sns.distplot(cssm_private, label=\"ours\")\n",
    "plt.legend()\n",
    "plt.show()"
   ]
  },
  {
   "cell_type": "code",
   "execution_count": 8,
   "metadata": {},
   "outputs": [
    {
     "name": "stdout",
     "output_type": "stream",
     "text": [
      "#####################################\n",
      "## Calculating Euclidean Distance ###\n",
      "#####################################\n"
     ]
    },
    {
     "name": "stderr",
     "output_type": "stream",
     "text": [
      "/home/hyunjun/anaconda3/envs/test/lib/python3.7/site-packages/ipykernel_launcher.py:17: UserWarning: \n",
      "\n",
      "`distplot` is a deprecated function and will be removed in seaborn v0.14.0.\n",
      "\n",
      "Please adapt your code to use either `displot` (a figure-level function with\n",
      "similar flexibility) or `histplot` (an axes-level function for histograms).\n",
      "\n",
      "For a guide to updating your code to use the new functions, please see\n",
      "https://gist.github.com/mwaskom/de44147ed2974457ad6372750bbe5751\n",
      "\n",
      "/home/hyunjun/anaconda3/envs/test/lib/python3.7/site-packages/ipykernel_launcher.py:18: UserWarning: \n",
      "\n",
      "`distplot` is a deprecated function and will be removed in seaborn v0.14.0.\n",
      "\n",
      "Please adapt your code to use either `displot` (a figure-level function with\n",
      "similar flexibility) or `histplot` (an axes-level function for histograms).\n",
      "\n",
      "For a guide to updating your code to use the new functions, please see\n",
      "https://gist.github.com/mwaskom/de44147ed2974457ad6372750bbe5751\n",
      "\n"
     ]
    },
    {
     "data": {
      "image/png": "[encoded data removed]",
      "text/plain": [
       "<Figure size 432x288 with 1 Axes>"
      ]
     },
     "metadata": {
      "needs_background": "light"
     },
     "output_type": "display_data"
    }
   ],
   "source": [
    "print(\"#####################################\")\n",
    "print(\"## Calculating Euclidean Distance ###\")\n",
    "print(\"#####################################\")\n",
    "dist = DistanceMetric.get_metric('euclidean')\n",
    "\n",
    "euclidean_base = np.array([])\n",
    "euclidean_private = np.array([])\n",
    "for i in range(len(latent_vectors_base)):\n",
    "    temp = dist.pairwise(np.array(latent_vectors_base[i])).reshape(-1)\n",
    "    euclidean_base = np.concatenate((euclidean_base, temp))\n",
    "    # print(f\"max: {np.max(euclidean_base):.4f}, min: {np.min(euclidean_base):.4f}, mean: {np.mean(euclidean_base):.4f}, var: {np.var(euclidean_base):.4f}\")\n",
    "    \n",
    "    temp = dist.pairwise(np.array(latent_vectors_private[i])).reshape(-1)\n",
    "    euclidean_private = np.concatenate((euclidean_private, temp))\n",
    "    # print(f\"max: {np.max(euclidean_private):.4f}, min: {np.min(euclidean_private):.4f}, mean: {np.mean(euclidean_private):.4f}, var: {np.var(euclidean_private):.4f}\")\n",
    "\n",
    "sns.distplot(euclidean_base, label=\"base\")\n",
    "sns.distplot(euclidean_private, label=\"ours\")\n",
    "plt.legend()\n",
    "plt.show()"
   ]
  },
  {
   "cell_type": "code",
   "execution_count": 9,
   "metadata": {},
   "outputs": [
    {
     "name": "stdout",
     "output_type": "stream",
     "text": [
      "#####################################\n",
      "## Calculating Manhattan Distance ###\n",
      "#####################################\n"
     ]
    },
    {
     "name": "stderr",
     "output_type": "stream",
     "text": [
      "/home/hyunjun/anaconda3/envs/test/lib/python3.7/site-packages/ipykernel_launcher.py:17: UserWarning: \n",
      "\n",
      "`distplot` is a deprecated function and will be removed in seaborn v0.14.0.\n",
      "\n",
      "Please adapt your code to use either `displot` (a figure-level function with\n",
      "similar flexibility) or `histplot` (an axes-level function for histograms).\n",
      "\n",
      "For a guide to updating your code to use the new functions, please see\n",
      "https://gist.github.com/mwaskom/de44147ed2974457ad6372750bbe5751\n",
      "\n",
      "/home/hyunjun/anaconda3/envs/test/lib/python3.7/site-packages/ipykernel_launcher.py:18: UserWarning: \n",
      "\n",
      "`distplot` is a deprecated function and will be removed in seaborn v0.14.0.\n",
      "\n",
      "Please adapt your code to use either `displot` (a figure-level function with\n",
      "similar flexibility) or `histplot` (an axes-level function for histograms).\n",
      "\n",
      "For a guide to updating your code to use the new functions, please see\n",
      "https://gist.github.com/mwaskom/de44147ed2974457ad6372750bbe5751\n",
      "\n"
     ]
    },
    {
     "data": {
      "image/png": "[encoded data removed]",
      "text/plain": [
       "<Figure size 432x288 with 1 Axes>"
      ]
     },
     "metadata": {
      "needs_background": "light"
     },
     "output_type": "display_data"
    }
   ],
   "source": [
    "print(\"#####################################\")\n",
    "print(\"## Calculating Manhattan Distance ###\")\n",
    "print(\"#####################################\")\n",
    "dist = DistanceMetric.get_metric('manhattan')\n",
    "\n",
    "manhattan_base = np.array([])\n",
    "manhattan_private = np.array([])\n",
    "for i in range(len(latent_vectors_base)):\n",
    "    temp = dist.pairwise(np.array(latent_vectors_base[i])).reshape(-1)\n",
    "    manhattan_base = np.concatenate((manhattan_base, temp))\n",
    "    # print(f\"max: {np.max(manhattan_base):.4f}, min: {np.min(manhattan_base):.4f}, mean: {np.mean(manhattan_base):.4f}, var: {np.var(manhattan_base):.4f}\")\n",
    "    \n",
    "    temp = dist.pairwise(np.array(latent_vectors_private[i])).reshape(-1)\n",
    "    manhattan_private = np.concatenate((manhattan_private, temp))\n",
    "    # print(f\"max: {np.max(manhattan_private):.4f}, min: {np.min(manhattan_private):.4f}, mean: {np.mean(manhattan_private):.4f}, var: {np.var(manhattan_private):.4f}\")\n",
    "\n",
    "sns.distplot(manhattan_base, label=\"base\")\n",
    "sns.distplot(manhattan_private, label=\"ours\")\n",
    "plt.legend()\n",
    "plt.show()"
   ]
  },
  {
   "cell_type": "code",
   "execution_count": 10,
   "metadata": {},
   "outputs": [
    {
     "name": "stdout",
     "output_type": "stream",
     "text": [
      "#####################################\n",
      "## Calculating Chebyshev Distance ###\n",
      "#####################################\n"
     ]
    },
    {
     "name": "stderr",
     "output_type": "stream",
     "text": [
      "/home/hyunjun/anaconda3/envs/test/lib/python3.7/site-packages/ipykernel_launcher.py:17: UserWarning: \n",
      "\n",
      "`distplot` is a deprecated function and will be removed in seaborn v0.14.0.\n",
      "\n",
      "Please adapt your code to use either `displot` (a figure-level function with\n",
      "similar flexibility) or `histplot` (an axes-level function for histograms).\n",
      "\n",
      "For a guide to updating your code to use the new functions, please see\n",
      "https://gist.github.com/mwaskom/de44147ed2974457ad6372750bbe5751\n",
      "\n",
      "/home/hyunjun/anaconda3/envs/test/lib/python3.7/site-packages/ipykernel_launcher.py:18: UserWarning: \n",
      "\n",
      "`distplot` is a deprecated function and will be removed in seaborn v0.14.0.\n",
      "\n",
      "Please adapt your code to use either `displot` (a figure-level function with\n",
      "similar flexibility) or `histplot` (an axes-level function for histograms).\n",
      "\n",
      "For a guide to updating your code to use the new functions, please see\n",
      "https://gist.github.com/mwaskom/de44147ed2974457ad6372750bbe5751\n",
      "\n"
     ]
    },
    {
     "data": {
      "image/png": "[encoded data removed]",
      "text/plain": [
       "<Figure size 432x288 with 1 Axes>"
      ]
     },
     "metadata": {
      "needs_background": "light"
     },
     "output_type": "display_data"
    }
   ],
   "source": [
    "print(\"#####################################\")\n",
    "print(\"## Calculating Chebyshev Distance ###\")\n",
    "print(\"#####################################\")\n",
    "dist = DistanceMetric.get_metric('chebyshev')\n",
    "\n",
    "chebyshev_base = np.array([])\n",
    "chebyshev_private = np.array([])\n",
    "for i in range(len(latent_vectors_base)):\n",
    "    temp = dist.pairwise(np.array(latent_vectors_base[i])).reshape(-1)\n",
    "    chebyshev_base = np.concatenate((chebyshev_base, temp))\n",
    "    # print(f\"max: {np.max(chebyshev_base):.4f}, min: {np.min(chebyshev_base):.4f}, mean: {np.mean(chebyshev_base):.4f}, var: {np.var(chebyshev_base):.4f}\")\n",
    "    \n",
    "    temp = dist.pairwise(np.array(latent_vectors_private[i])).reshape(-1)\n",
    "    chebyshev_private = np.concatenate((chebyshev_private, temp))\n",
    "    # print(f\"max: {np.max(chebyshev_private):.4f}, min: {np.min(chebyshev_private):.4f}, mean: {np.mean(chebyshev_private):.4f}, var: {np.var(chebyshev_private):.4f}\")\n",
    "\n",
    "sns.distplot(chebyshev_base, label=\"base\")\n",
    "sns.distplot(chebyshev_private, label=\"ours\")\n",
    "plt.legend()\n",
    "plt.show()"
   ]
  }
 ],
 "metadata": {
  "kernelspec": {
   "display_name": "test",
   "language": "python",
   "name": "python3"
  },
  "language_info": {
   "codemirror_mode": {
    "name": "ipython",
    "version": 3
   },
   "file_extension": ".py",
   "mimetype": "text/x-python",
   "name": "python",
   "nbconvert_exporter": "python",
   "pygments_lexer": "ipython3",
   "version": "3.7.13"
  },
  "orig_nbformat": 4
 },
 "nbformat": 4,
 "nbformat_minor": 2
}
