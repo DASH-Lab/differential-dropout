{
 "cells": [
  {
   "cell_type": "code",
   "execution_count": 1,
   "metadata": {},
   "outputs": [],
   "source": [
    "import torch\n",
    "import torch.nn as nn\n",
    "from torch.utils.data import DataLoader\n",
    "import torchvision\n",
    "import torchvision.transforms as transforms\n",
    "import numpy as np\n",
    "import matplotlib.pyplot as plt\n",
    "from sklearn.metrics.pairwise import cosine_similarity\n",
    "from sklearn.metrics import DistanceMetric\n",
    "from scipy.spatial.distance import mahalanobis\n",
    "import os\n",
    "import sys\n",
    "sys.path.append('../models')\n",
    "import ResNet as resnet\n",
    "import DenseNet as densenet\n",
    "import EfficientNet as efficientnet\n",
    "import MobileNetV2 as mobilenet\n",
    "import ViT as vit"
   ]
  },
  {
   "cell_type": "code",
   "execution_count": 2,
   "metadata": {},
   "outputs": [],
   "source": [
    "os.environ[\"CUDA_DEVICE_ORDER\"] = \"PCI_BUS_ID\"\n",
    "os.environ[\"CUDA_VISIBLE_DEVICES\"] = \"2, 3\"\n",
    "\n",
    "device = torch.device('cuda' if torch.cuda.is_available() else 'cpu')"
   ]
  },
  {
   "cell_type": "code",
   "execution_count": 3,
   "metadata": {},
   "outputs": [],
   "source": [
    "##########################################\n",
    "######### Configure Metric Setting ####### \n",
    "##########################################\n",
    "batch_size = 64\n",
    "weight_path = './weights/cifar10_resnet18_v3.pt'\n",
    "model = torch.load(weight_path)\n",
    "criterion = nn.CrossEntropyLoss()\n",
    "member_path = '/media/data1/hyunjun/cifar-10/train/'\n",
    "nonmember_path = '/media/data1/hyunjun/cifar-10/test/'\n",
    "data = 'Cifar-10'\n",
    "##########################################\n",
    "##########################################"
   ]
  },
  {
   "cell_type": "code",
   "execution_count": 4,
   "metadata": {},
   "outputs": [],
   "source": [
    "mean, std = (0.485, 0.456, 0.406), (0.229, 0.224, 0.225) \n",
    "if data == 'STL-10':\n",
    "    mean, std = (0.485, 0.456, 0.406), (0.229, 0.224, 0.225)\n",
    "elif data == 'Cifar-10':\n",
    "    mean, std = (0.491, 0.482, 0.447), (0.247, 0.243, 0.262)\n",
    "elif data == 'CelebA':\n",
    "    mean, std = (0.485, 0.456, 0.406), (0.229, 0.224, 0.225)\n",
    "\n",
    "trans = transforms.Compose([\n",
    "    transforms.Resize((224, 224)),\n",
    "    transforms.ToTensor(),\n",
    "    transforms.Normalize(mean, std),\n",
    "])\n",
    "\n",
    "model.to(device)\n",
    "model.eval()\n",
    "\n",
    "nonmember_set = torchvision.datasets.ImageFolder(root=nonmember_path, transform=trans)\n",
    "nonmember_loader = DataLoader(nonmember_set, batch_size=batch_size, shuffle=True, drop_last=False,)\n",
    "member_set = torchvision.datasets.ImageFolder(root=member_path, transform=trans)\n",
    "member_loader = DataLoader(member_set, batch_size=batch_size, shuffle=True, drop_last=False,)\n",
    "\n",
    "classes = member_set.classes"
   ]
  },
  {
   "cell_type": "code",
   "execution_count": 5,
   "metadata": {},
   "outputs": [],
   "source": [
    "latent_vectors = [[] for _ in range(len(classes))]\n",
    "\n",
    "model.eval()\n",
    "with torch.no_grad():\n",
    "    for data in member_loader:\n",
    "        images, labels = data[0].to(device), data[1].to(device)\n",
    "        features, _ = model(images)\n",
    "\n",
    "        deep_features = features.cpu().numpy().tolist()\n",
    "        actual = labels.cpu().numpy().tolist()\n",
    "        \n",
    "        for i in range(len(actual)):\n",
    "            latent_vectors[actual[i]].append(list(deep_features[i]))"
   ]
  },
  {
   "cell_type": "code",
   "execution_count": 6,
   "metadata": {},
   "outputs": [
    {
     "name": "stdout",
     "output_type": "stream",
     "text": [
      "#####################################\n",
      "### Calculating Cosine Similarity ###\n",
      "#####################################\n",
      "class: airplane, max: 1.0000, min: 0.4670, mean: 0.9887, var: 0.0007\n",
      "class: automobile, max: 1.0000, min: 0.4366, mean: 0.9954, var: 0.0004\n",
      "class: bird, max: 1.0000, min: 0.4519, mean: 0.9872, var: 0.0009\n",
      "class: cat, max: 1.0000, min: 0.3732, mean: 0.9801, var: 0.0012\n",
      "class: deer, max: 1.0000, min: 0.4221, mean: 0.9870, var: 0.0007\n",
      "class: dog, max: 1.0000, min: 0.5390, mean: 0.9843, var: 0.0010\n",
      "class: frog, max: 1.0000, min: 0.6490, mean: 0.9954, var: 0.0002\n",
      "class: horse, max: 1.0000, min: 0.5320, mean: 0.9929, var: 0.0006\n",
      "class: ship, max: 1.0000, min: 0.5017, mean: 0.9949, var: 0.0004\n",
      "class: truck, max: 1.0000, min: 0.3656, mean: 0.9914, var: 0.0009\n"
     ]
    }
   ],
   "source": [
    "print(\"#####################################\")\n",
    "print(\"### Calculating Cosine Similarity ###\")\n",
    "print(\"#####################################\")\n",
    "\n",
    "\n",
    "for i in range(len(latent_vectors)):\n",
    "    cssm = cosine_similarity(np.array(latent_vectors[i]))\n",
    "    print(f\"class: {classes[i]}, max: {np.max(cssm):.4f}, min: {np.min(cssm):.4f}, mean: {np.mean(cssm):.4f}, var: {np.var(cssm):.4f}\")\n"
   ]
  },
  {
   "cell_type": "code",
   "execution_count": 7,
   "metadata": {},
   "outputs": [
    {
     "name": "stdout",
     "output_type": "stream",
     "text": [
      "#####################################\n",
      "## Calculating Euclidean Distance ###\n",
      "#####################################\n",
      "class: airplane, max: 23.6579, min: 0.0000, mean: 4.6271, var: 10.3973\n",
      "class: automobile, max: 23.7376, min: 0.0000, mean: 4.2923, var: 9.6302\n",
      "class: bird, max: 25.2600, min: 0.0000, mean: 4.4680, var: 10.2548\n",
      "class: cat, max: 25.9025, min: 0.0000, mean: 4.4393, var: 10.4150\n",
      "class: deer, max: 26.7854, min: 0.0000, mean: 4.8046, var: 11.8209\n",
      "class: dog, max: 26.3767, min: 0.0000, mean: 4.7520, var: 12.1981\n",
      "class: frog, max: 27.1133, min: 0.0000, mean: 4.4309, var: 10.8498\n",
      "class: horse, max: 33.1783, min: 0.0000, mean: 5.6592, var: 17.1234\n",
      "class: ship, max: 32.8538, min: 0.0000, mean: 5.9138, var: 18.2216\n",
      "class: truck, max: 27.6072, min: 0.0000, mean: 5.0058, var: 12.9705\n"
     ]
    }
   ],
   "source": [
    "print(\"#####################################\")\n",
    "print(\"## Calculating Euclidean Distance ###\")\n",
    "print(\"#####################################\")\n",
    "dist = DistanceMetric.get_metric('euclidean')\n",
    "for i in range(len(latent_vectors)):\n",
    "    euclidean = dist.pairwise(np.array(latent_vectors[i]))\n",
    "    print(f\"class: {classes[i]}, max: {np.max(euclidean):.4f}, min: {np.min(euclidean):.4f}, mean: {np.mean(euclidean):.4f}, var: {np.var(euclidean):.4f}\")"
   ]
  },
  {
   "cell_type": "code",
   "execution_count": 8,
   "metadata": {},
   "outputs": [
    {
     "name": "stdout",
     "output_type": "stream",
     "text": [
      "#####################################\n",
      "## Calculating Manhattan Distance ###\n",
      "#####################################\n",
      "class: airplane, max: 72.9251, min: 0.0000, mean: 13.9846, var: 100.9342\n",
      "class: automobile, max: 73.0398, min: 0.0000, mean: 13.1647, var: 94.1278\n",
      "class: bird, max: 77.1027, min: 0.0000, mean: 13.3937, var: 97.4210\n",
      "class: cat, max: 77.6582, min: 0.0000, mean: 13.1349, var: 96.5256\n",
      "class: deer, max: 80.1264, min: 0.0000, mean: 14.1433, var: 108.2766\n",
      "class: dog, max: 77.1610, min: 0.0000, mean: 13.9112, var: 107.9897\n",
      "class: frog, max: 83.2022, min: 0.0000, mean: 13.4631, var: 103.8483\n",
      "class: horse, max: 99.4058, min: 0.0000, mean: 16.8310, var: 155.9876\n",
      "class: ship, max: 101.5884, min: 0.0000, mean: 18.1891, var: 177.1307\n",
      "class: truck, max: 84.7396, min: 0.0000, mean: 15.2906, var: 126.3945\n"
     ]
    }
   ],
   "source": [
    "print(\"#####################################\")\n",
    "print(\"## Calculating Manhattan Distance ###\")\n",
    "print(\"#####################################\")\n",
    "dist = DistanceMetric.get_metric('manhattan')\n",
    "for i in range(len(latent_vectors)):\n",
    "    manhattan = dist.pairwise(np.array(latent_vectors[i]))\n",
    "    print(f\"class: {classes[i]}, max: {np.max(manhattan):.4f}, min: {np.min(manhattan):.4f}, mean: {np.mean(manhattan):.4f}, var: {np.var(manhattan):.4f}\")"
   ]
  },
  {
   "cell_type": "code",
   "execution_count": 9,
   "metadata": {},
   "outputs": [
    {
     "name": "stdout",
     "output_type": "stream",
     "text": [
      "#####################################\n",
      "## Calculating Chebyshev Distance ###\n",
      "#####################################\n",
      "class: airplane, max: 11.9362, min: 0.0000, mean: 2.1647, var: 2.0477\n",
      "class: automobile, max: 9.4198, min: 0.0000, mean: 1.7335, var: 1.3308\n",
      "class: bird, max: 11.8477, min: 0.0000, mean: 2.0796, var: 2.0570\n",
      "class: cat, max: 11.4281, min: 0.0000, mean: 1.9570, var: 1.6333\n",
      "class: deer, max: 12.9324, min: 0.0000, mean: 2.2954, var: 2.4953\n",
      "class: dog, max: 11.9001, min: 0.0000, mean: 2.1349, var: 2.2251\n",
      "class: frog, max: 11.4640, min: 0.0000, mean: 1.9072, var: 1.8344\n",
      "class: horse, max: 15.5476, min: 0.0000, mean: 2.5770, var: 3.3664\n",
      "class: ship, max: 13.6685, min: 0.0000, mean: 2.4649, var: 2.9165\n",
      "class: truck, max: 11.7420, min: 0.0000, mean: 2.0929, var: 1.9668\n"
     ]
    }
   ],
   "source": [
    "print(\"#####################################\")\n",
    "print(\"## Calculating Chebyshev Distance ###\")\n",
    "print(\"#####################################\")\n",
    "dist = DistanceMetric.get_metric('chebyshev')\n",
    "for i in range(len(latent_vectors)):\n",
    "    chebyshev = dist.pairwise(np.array(latent_vectors[i]))\n",
    "    print(f\"class: {classes[i]}, max: {np.max(chebyshev):.4f}, min: {np.min(chebyshev):.4f}, mean: {np.mean(chebyshev):.4f}, var: {np.var(chebyshev):.4f}\")"
   ]
  }
 ],
 "metadata": {
  "kernelspec": {
   "display_name": "test",
   "language": "python",
   "name": "python3"
  },
  "language_info": {
   "codemirror_mode": {
    "name": "ipython",
    "version": 3
   },
   "file_extension": ".py",
   "mimetype": "text/x-python",
   "name": "python",
   "nbconvert_exporter": "python",
   "pygments_lexer": "ipython3",
   "version": "3.7.13"
  },
  "orig_nbformat": 4
 },
 "nbformat": 4,
 "nbformat_minor": 2
}
