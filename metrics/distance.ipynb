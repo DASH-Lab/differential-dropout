{
 "cells": [
  {
   "cell_type": "code",
   "execution_count": 1,
   "metadata": {},
   "outputs": [],
   "source": [
    "import torch\n",
    "import torch.nn as nn\n",
    "from torch.utils.data import DataLoader\n",
    "import torchvision\n",
    "import torchvision.transforms as transforms\n",
    "import numpy as np\n",
    "import matplotlib.pyplot as plt\n",
    "from sklearn.metrics.pairwise import cosine_similarity\n",
    "from sklearn.metrics import DistanceMetric\n",
    "from scipy.spatial.distance import mahalanobis\n",
    "import os\n",
    "import sys\n",
    "sys.path.append('../models')\n",
    "import ResNet as resnet\n",
    "import DenseNet as densenet\n",
    "import EfficientNet as efficientnet\n",
    "import MobileNetV2 as mobilenet\n",
    "import ViT as vit"
   ]
  },
  {
   "cell_type": "code",
   "execution_count": 2,
   "metadata": {},
   "outputs": [],
   "source": [
    "os.environ[\"CUDA_DEVICE_ORDER\"] = \"PCI_BUS_ID\"\n",
    "os.environ[\"CUDA_VISIBLE_DEVICES\"] = \"1\"\n",
    "\n",
    "device = torch.device('cuda' if torch.cuda.is_available() else 'cpu')"
   ]
  },
  {
   "cell_type": "code",
   "execution_count": 3,
   "metadata": {},
   "outputs": [],
   "source": [
    "##########################################\n",
    "######### Configure Metric Setting ####### \n",
    "##########################################\n",
    "batch_size = 64\n",
    "weight_path = './weights/cifar10_resnet18_v2.pt'\n",
    "model = torch.load(weight_path)\n",
    "criterion = nn.CrossEntropyLoss()\n",
    "member_path = '/media/data1/hyunjun/cifar-10/train/'\n",
    "nonmember_path = '/media/data1/hyunjun/cifar-10/test/'\n",
    "data = 'Cifar-10'\n",
    "##########################################\n",
    "##########################################"
   ]
  },
  {
   "cell_type": "code",
   "execution_count": 4,
   "metadata": {},
   "outputs": [],
   "source": [
    "mean, std = (0.485, 0.456, 0.406), (0.229, 0.224, 0.225) \n",
    "if data == 'STL-10':\n",
    "    mean, std = (0.485, 0.456, 0.406), (0.229, 0.224, 0.225)\n",
    "elif data == 'Cifar-10':\n",
    "    mean, std = (0.491, 0.482, 0.447), (0.247, 0.243, 0.262)\n",
    "elif data == 'CelebA':\n",
    "    mean, std = (0.485, 0.456, 0.406), (0.229, 0.224, 0.225)\n",
    "\n",
    "trans = transforms.Compose([\n",
    "    transforms.Resize((224, 224)),\n",
    "    transforms.ToTensor(),\n",
    "    transforms.Normalize(mean, std),\n",
    "])\n",
    "\n",
    "model.to(device)\n",
    "model.eval()\n",
    "\n",
    "nonmember_set = torchvision.datasets.ImageFolder(root=nonmember_path, transform=trans)\n",
    "nonmember_loader = DataLoader(nonmember_set, batch_size=batch_size, shuffle=True, drop_last=False,)\n",
    "member_set = torchvision.datasets.ImageFolder(root=member_path, transform=trans)\n",
    "member_loader = DataLoader(member_set, batch_size=batch_size, shuffle=True, drop_last=False,)\n",
    "\n",
    "classes = member_set.classes"
   ]
  },
  {
   "cell_type": "code",
   "execution_count": 5,
   "metadata": {},
   "outputs": [],
   "source": [
    "latent_vectors = [[] for _ in range(len(classes))]\n",
    "\n",
    "model.eval()\n",
    "with torch.no_grad():\n",
    "    for data in member_loader:\n",
    "        images, labels = data[0].to(device), data[1].to(device)\n",
    "        features, _ = model(images)\n",
    "\n",
    "        deep_features = features.cpu().numpy().tolist()\n",
    "        actual = labels.cpu().numpy().tolist()\n",
    "        \n",
    "        for i in range(len(actual)):\n",
    "            latent_vectors[actual[i]].append(list(deep_features[i]))\n"
   ]
  },
  {
   "cell_type": "code",
   "execution_count": 6,
   "metadata": {},
   "outputs": [
    {
     "name": "stdout",
     "output_type": "stream",
     "text": [
      "#####################################\n",
      "### Calculating Cosine Similarity ###\n",
      "#####################################\n",
      "class: airplane, max: 1.0000, min: 0.4076, mean: 0.9018, var: 0.0034\n",
      "class: automobile, max: 1.0000, min: 0.3453, mean: 0.8772, var: 0.0046\n",
      "class: bird, max: 1.0000, min: 0.2345, mean: 0.8743, var: 0.0047\n",
      "class: cat, max: 1.0000, min: 0.4297, mean: 0.9114, var: 0.0025\n",
      "class: deer, max: 1.0000, min: 0.3930, mean: 0.9047, var: 0.0032\n",
      "class: dog, max: 1.0000, min: 0.4179, mean: 0.8814, var: 0.0039\n",
      "class: frog, max: 1.0000, min: 0.3080, mean: 0.8941, var: 0.0042\n",
      "class: horse, max: 1.0000, min: 0.5353, mean: 0.9357, var: 0.0015\n",
      "class: ship, max: 1.0000, min: 0.3156, mean: 0.8931, var: 0.0038\n",
      "class: truck, max: 1.0000, min: 0.4879, mean: 0.9210, var: 0.0021\n"
     ]
    }
   ],
   "source": [
    "print(\"#####################################\")\n",
    "print(\"### Calculating Cosine Similarity ###\")\n",
    "print(\"#####################################\")\n",
    "\n",
    "for i in range(len(latent_vectors)):\n",
    "    cssm = cosine_similarity(np.array(latent_vectors[i]))\n",
    "    print(f\"class: {classes[i]}, max: {np.max(cssm):.4f}, min: {np.min(cssm):.4f}, mean: {np.mean(cssm):.4f}, var: {np.var(cssm):.4f}\")"
   ]
  },
  {
   "cell_type": "code",
   "execution_count": 7,
   "metadata": {},
   "outputs": [
    {
     "name": "stdout",
     "output_type": "stream",
     "text": [
      "#####################################\n",
      "## Calculating Euclidean Distance ###\n",
      "#####################################\n",
      "class: airplane, max: 38.3830, min: 0.0000, mean: 11.4491, var: 12.1017\n",
      "class: automobile, max: 34.4974, min: 0.0000, mean: 12.8696, var: 13.2395\n",
      "class: bird, max: 35.7884, min: 0.0000, mean: 11.3693, var: 10.1061\n",
      "class: cat, max: 41.1791, min: 0.0000, mean: 12.3374, var: 13.7583\n",
      "class: deer, max: 40.5108, min: 0.0000, mean: 12.1666, var: 14.1131\n",
      "class: dog, max: 40.6471, min: 0.0000, mean: 12.4478, var: 12.6667\n",
      "class: frog, max: 35.5434, min: 0.0000, mean: 11.8385, var: 12.1216\n",
      "class: horse, max: 42.2903, min: 0.0000, mean: 12.3608, var: 16.6867\n",
      "class: ship, max: 32.9070, min: 0.0000, mean: 11.3099, var: 10.7442\n",
      "class: truck, max: 39.1107, min: 0.0000, mean: 12.2118, var: 13.3494\n"
     ]
    }
   ],
   "source": [
    "print(\"#####################################\")\n",
    "print(\"## Calculating Euclidean Distance ###\")\n",
    "print(\"#####################################\")\n",
    "dist = DistanceMetric.get_metric('euclidean')\n",
    "for i in range(len(latent_vectors)):\n",
    "    euclidean = dist.pairwise(np.array(latent_vectors[i]))\n",
    "    print(f\"class: {classes[i]}, max: {np.max(euclidean):.4f}, min: {np.min(euclidean):.4f}, mean: {np.mean(euclidean):.4f}, var: {np.var(euclidean):.4f}\")"
   ]
  },
  {
   "cell_type": "code",
   "execution_count": 8,
   "metadata": {},
   "outputs": [
    {
     "name": "stdout",
     "output_type": "stream",
     "text": [
      "#####################################\n",
      "## Calculating Manhattan Distance ###\n",
      "#####################################\n",
      "class: airplane, max: 106.3786, min: 0.0000, mean: 29.9948, var: 92.9097\n",
      "class: automobile, max: 91.7327, min: 0.0000, mean: 33.1654, var: 91.3227\n",
      "class: bird, max: 98.1471, min: 0.0000, mean: 29.5138, var: 74.8660\n",
      "class: cat, max: 122.9356, min: 0.0000, mean: 32.3551, var: 109.5868\n",
      "class: deer, max: 114.0511, min: 0.0000, mean: 31.7886, var: 108.0165\n",
      "class: dog, max: 111.0948, min: 0.0000, mean: 32.2794, var: 94.3828\n",
      "class: frog, max: 92.3577, min: 0.0000, mean: 30.6638, var: 86.5950\n",
      "class: horse, max: 115.0586, min: 0.0000, mean: 32.3368, var: 123.5827\n",
      "class: ship, max: 90.4588, min: 0.0000, mean: 29.3065, var: 77.0218\n",
      "class: truck, max: 103.7976, min: 0.0000, mean: 31.7498, var: 96.1733\n"
     ]
    }
   ],
   "source": [
    "print(\"#####################################\")\n",
    "print(\"## Calculating Manhattan Distance ###\")\n",
    "print(\"#####################################\")\n",
    "dist = DistanceMetric.get_metric('manhattan')\n",
    "for i in range(len(latent_vectors)):\n",
    "    manhattan = dist.pairwise(np.array(latent_vectors[i]))\n",
    "    print(f\"class: {classes[i]}, max: {np.max(manhattan):.4f}, min: {np.min(manhattan):.4f}, mean: {np.mean(manhattan):.4f}, var: {np.var(manhattan):.4f}\")"
   ]
  },
  {
   "cell_type": "code",
   "execution_count": 9,
   "metadata": {},
   "outputs": [
    {
     "name": "stdout",
     "output_type": "stream",
     "text": [
      "#####################################\n",
      "## Calculating Chebyshev Distance ###\n",
      "#####################################\n",
      "class: airplane, max: 23.4877, min: 0.0000, mean: 6.8023, var: 4.7904\n",
      "class: automobile, max: 25.7819, min: 0.0000, mean: 7.8932, var: 6.7028\n",
      "class: bird, max: 23.3473, min: 0.0000, mean: 6.8903, var: 4.6505\n",
      "class: cat, max: 24.3177, min: 0.0000, mean: 7.3385, var: 5.2525\n",
      "class: deer, max: 24.8609, min: 0.0000, mean: 7.2733, var: 5.7286\n",
      "class: dog, max: 25.2622, min: 0.0000, mean: 7.5580, var: 5.7616\n",
      "class: frog, max: 24.9020, min: 0.0000, mean: 7.1729, var: 5.5280\n",
      "class: horse, max: 27.3233, min: 0.0000, mean: 7.3904, var: 6.9309\n",
      "class: ship, max: 23.7469, min: 0.0000, mean: 6.8846, var: 5.1845\n",
      "class: truck, max: 29.1943, min: 0.0000, mean: 7.3817, var: 6.1806\n"
     ]
    }
   ],
   "source": [
    "print(\"#####################################\")\n",
    "print(\"## Calculating Chebyshev Distance ###\")\n",
    "print(\"#####################################\")\n",
    "dist = DistanceMetric.get_metric('chebyshev')\n",
    "for i in range(len(latent_vectors)):\n",
    "    chebyshev = dist.pairwise(np.array(latent_vectors[i]))\n",
    "    print(f\"class: {classes[i]}, max: {np.max(chebyshev):.4f}, min: {np.min(chebyshev):.4f}, mean: {np.mean(chebyshev):.4f}, var: {np.var(chebyshev):.4f}\")"
   ]
  }
 ],
 "metadata": {
  "kernelspec": {
   "display_name": "test",
   "language": "python",
   "name": "python3"
  },
  "language_info": {
   "codemirror_mode": {
    "name": "ipython",
    "version": 3
   },
   "file_extension": ".py",
   "mimetype": "text/x-python",
   "name": "python",
   "nbconvert_exporter": "python",
   "pygments_lexer": "ipython3",
   "version": "3.7.13"
  },
  "orig_nbformat": 4
 },
 "nbformat": 4,
 "nbformat_minor": 2
}
