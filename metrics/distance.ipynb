{
 "cells": [
  {
   "cell_type": "code",
   "execution_count": 1,
   "metadata": {},
   "outputs": [],
   "source": [
    "import torch\n",
    "import torch.nn as nn\n",
    "from torch.utils.data import DataLoader, Dataset\n",
    "import torchvision\n",
    "import torchvision.transforms as transforms\n",
    "import numpy as np\n",
    "import matplotlib.pyplot as plt\n",
    "from sklearn.metrics.pairwise import cosine_similarity\n",
    "from sklearn.metrics import DistanceMetric\n",
    "import os\n",
    "import sys\n",
    "sys.path.append('../models')\n",
    "import ResNet as resnet\n",
    "import DenseNet as densenet\n",
    "import EfficientNet as efficientnet\n",
    "import MobileNetV2 as mobilenet\n",
    "import ViT as vit"
   ]
  },
  {
   "cell_type": "code",
   "execution_count": 2,
   "metadata": {},
   "outputs": [],
   "source": [
    "os.environ[\"CUDA_DEVICE_ORDER\"] = \"PCI_BUS_ID\"\n",
    "os.environ[\"CUDA_VISIBLE_DEVICES\"] = \"2, 3\"\n",
    "\n",
    "device = torch.device('cuda' if torch.cuda.is_available() else 'cpu')"
   ]
  },
  {
   "cell_type": "code",
   "execution_count": 3,
   "metadata": {},
   "outputs": [],
   "source": [
    "##########################################\n",
    "######### Configure Metric Setting ####### \n",
    "##########################################\n",
    "batch_size = 64\n",
    "weight_path = './weights/baseline/dp-sgd/cifar10_dpsgd_resnet18_100.pt'\n",
    "model = torch.load(weight_path)\n",
    "criterion = nn.CrossEntropyLoss()\n",
    "member_path = '/media/data1/hyunjun/cifar-10/train/'\n",
    "nonmember_path = '/media/data1/hyunjun/cifar-10/test/'\n",
    "data = 'Cifar-10'\n",
    "##########################################\n",
    "##########################################"
   ]
  },
  {
   "cell_type": "code",
   "execution_count": 4,
   "metadata": {},
   "outputs": [],
   "source": [
    "mean, std = (0.485, 0.456, 0.406), (0.229, 0.224, 0.225) \n",
    "if data == 'Cifar-10':\n",
    "    mean, std = (0.491, 0.482, 0.447), (0.247, 0.243, 0.262)\n",
    "elif data == 'CelebA':\n",
    "    mean, std = (0.5, 0.5, 0.5), (0.5, 0.5, 0.5)\n",
    "\n",
    "trans = transforms.Compose([\n",
    "    transforms.Resize((224, 224)),\n",
    "    transforms.ToTensor(),\n",
    "    transforms.Normalize(mean, std),\n",
    "])\n",
    "\n",
    "model.to(device)\n",
    "model.eval()\n",
    "\n",
    "nonmember_set = torchvision.datasets.ImageFolder(root=nonmember_path, transform=trans)\n",
    "nonmember_loader = DataLoader(nonmember_set, batch_size=batch_size, shuffle=True, drop_last=False,)\n",
    "member_set = torchvision.datasets.ImageFolder(root=member_path, transform=trans)\n",
    "member_loader = DataLoader(member_set, batch_size=batch_size, shuffle=True, drop_last=False,)\n",
    "\n",
    "classes = member_set.classes"
   ]
  },
  {
   "cell_type": "code",
   "execution_count": 5,
   "metadata": {},
   "outputs": [],
   "source": [
    "latent_vectors = [[] for _ in range(len(classes))]\n",
    "\n",
    "model.eval()\n",
    "with torch.no_grad():\n",
    "    for data in member_loader:\n",
    "        images, labels = data[0].to(device), data[1].to(device)\n",
    "        features, _ = model(images)\n",
    "\n",
    "        deep_features = features.cpu().numpy().tolist()\n",
    "        actual = labels.cpu().numpy().tolist()\n",
    "        \n",
    "        for i in range(len(actual)):\n",
    "            latent_vectors[actual[i]].append(list(deep_features[i]))\n",
    "            \n",
    "    for data in nonmember_loader:\n",
    "        images, labels = data[0].to(device), data[1].to(device)\n",
    "        features, _ = model(images)\n",
    "\n",
    "        deep_features = features.cpu().numpy().tolist()\n",
    "        actual = labels.cpu().numpy().tolist()\n",
    "        \n",
    "        for i in range(len(actual)):\n",
    "            latent_vectors[actual[i]].append(list(deep_features[i]))"
   ]
  },
  {
   "cell_type": "code",
   "execution_count": 6,
   "metadata": {},
   "outputs": [
    {
     "name": "stdout",
     "output_type": "stream",
     "text": [
      "#####################################\n",
      "### Calculating Cosine Similarity ###\n",
      "#####################################\n",
      "class: airplane, max: 1.0000, min: -0.9806, mean: 0.5407, var: 0.4529\n",
      "class: automobile, max: 1.0000, min: -0.9752, mean: 0.2932, var: 0.4613\n",
      "class: bird, max: 1.0000, min: -0.9775, mean: 0.2111, var: 0.5978\n",
      "class: cat, max: 1.0000, min: -0.9750, mean: 0.2977, var: 0.4616\n",
      "class: deer, max: 1.0000, min: -0.9787, mean: 0.3968, var: 0.5471\n",
      "class: dog, max: 1.0000, min: -0.9694, mean: 0.3325, var: 0.4395\n",
      "class: frog, max: 1.0000, min: -0.9814, mean: 0.6250, var: 0.3674\n",
      "class: horse, max: 1.0000, min: -0.9781, mean: 0.3529, var: 0.3993\n",
      "class: ship, max: 1.0000, min: -0.9784, mean: 0.7000, var: 0.2837\n",
      "class: truck, max: 1.0000, min: -0.9723, mean: 0.3933, var: 0.4218\n",
      "Overall Macro Mean: 0.41431476448131715\n"
     ]
    }
   ],
   "source": [
    "print(\"#####################################\")\n",
    "print(\"### Calculating Cosine Similarity ###\")\n",
    "print(\"#####################################\")\n",
    "\n",
    "total_macro_mean = 0.0\n",
    "for i in range(len(latent_vectors)):\n",
    "    cssm = cosine_similarity(np.array(latent_vectors[i]))\n",
    "    total_macro_mean += np.mean(cssm)\n",
    "    print(f\"class: {classes[i]}, max: {np.max(cssm):.4f}, min: {np.min(cssm):.4f}, mean: {np.mean(cssm):.4f}, var: {np.var(cssm):.4f}\")\n",
    "print(\"Overall Macro Mean:\", total_macro_mean / len(latent_vectors))"
   ]
  },
  {
   "cell_type": "code",
   "execution_count": 7,
   "metadata": {},
   "outputs": [
    {
     "name": "stdout",
     "output_type": "stream",
     "text": [
      "#####################################\n",
      "## Calculating Euclidean Distance ###\n",
      "#####################################\n",
      "class: airplane, max: 4.0946, min: 0.0000, mean: 0.8626, var: 0.4405\n",
      "class: automobile, max: 3.9442, min: 0.0000, mean: 0.9631, var: 0.4262\n",
      "class: bird, max: 4.2645, min: 0.0000, mean: 1.0937, var: 0.5722\n",
      "class: cat, max: 3.7517, min: 0.0000, mean: 0.9436, var: 0.3922\n",
      "class: deer, max: 4.0068, min: 0.0000, mean: 0.9944, var: 0.5758\n",
      "class: dog, max: 3.8359, min: 0.0000, mean: 0.8839, var: 0.3460\n",
      "class: frog, max: 3.5458, min: 0.0000, mean: 0.7756, var: 0.3841\n",
      "class: horse, max: 3.6265, min: 0.0000, mean: 0.8770, var: 0.3405\n",
      "class: ship, max: 4.0105, min: 0.0000, mean: 0.7963, var: 0.3304\n",
      "class: truck, max: 3.7830, min: 0.0000, mean: 0.8718, var: 0.3537\n",
      "Overall Macro Mean: 0.9061817667417129\n"
     ]
    }
   ],
   "source": [
    "print(\"#####################################\")\n",
    "print(\"## Calculating Euclidean Distance ###\")\n",
    "print(\"#####################################\")\n",
    "\n",
    "dist = DistanceMetric.get_metric('euclidean')\n",
    "total_macro_mean = 0.0\n",
    "for i in range(len(latent_vectors)):\n",
    "    euclidean = dist.pairwise(np.array(latent_vectors[i]))\n",
    "    total_macro_mean += np.mean(euclidean)\n",
    "    print(f\"class: {classes[i]}, max: {np.max(euclidean):.4f}, min: {np.min(euclidean):.4f}, mean: {np.mean(euclidean):.4f}, var: {np.var(euclidean):.4f}\")\n",
    "print(\"Overall Macro Mean:\", total_macro_mean / len(latent_vectors))"
   ]
  },
  {
   "cell_type": "code",
   "execution_count": 8,
   "metadata": {},
   "outputs": [
    {
     "name": "stdout",
     "output_type": "stream",
     "text": [
      "#####################################\n",
      "## Calculating Manhattan Distance ###\n",
      "#####################################\n",
      "class: airplane, max: 11.1597, min: 0.0000, mean: 2.3083, var: 3.3234\n",
      "class: automobile, max: 10.7279, min: 0.0000, mean: 2.6282, var: 3.2816\n",
      "class: bird, max: 11.6259, min: 0.0000, mean: 2.9744, var: 4.3441\n",
      "class: cat, max: 10.4245, min: 0.0000, mean: 2.5668, var: 3.0008\n",
      "class: deer, max: 11.0689, min: 0.0000, mean: 2.7248, var: 4.4411\n",
      "class: dog, max: 10.6098, min: 0.0000, mean: 2.4031, var: 2.6481\n",
      "class: frog, max: 9.9937, min: 0.0000, mean: 2.1074, var: 2.9276\n",
      "class: horse, max: 10.2193, min: 0.0000, mean: 2.4055, var: 2.6510\n",
      "class: ship, max: 10.9669, min: 0.0000, mean: 2.1281, var: 2.4872\n",
      "class: truck, max: 10.3912, min: 0.0000, mean: 2.3726, var: 2.7335\n",
      "Overall Macro Mean: 2.461919687467027\n"
     ]
    }
   ],
   "source": [
    "print(\"#####################################\")\n",
    "print(\"## Calculating Manhattan Distance ###\")\n",
    "print(\"#####################################\")\n",
    "\n",
    "dist = DistanceMetric.get_metric('manhattan')\n",
    "total_macro_mean = 0.0\n",
    "for i in range(len(latent_vectors)):\n",
    "    manhattan = dist.pairwise(np.array(latent_vectors[i]))\n",
    "    total_macro_mean += np.mean(manhattan)\n",
    "    print(f\"class: {classes[i]}, max: {np.max(manhattan):.4f}, min: {np.min(manhattan):.4f}, mean: {np.mean(manhattan):.4f}, var: {np.var(manhattan):.4f}\")\n",
    "print(\"Overall Macro Mean:\", total_macro_mean / len(latent_vectors))"
   ]
  },
  {
   "cell_type": "code",
   "execution_count": 9,
   "metadata": {},
   "outputs": [
    {
     "name": "stdout",
     "output_type": "stream",
     "text": [
      "#####################################\n",
      "## Calculating Chebyshev Distance ###\n",
      "#####################################\n",
      "class: airplane, max: 2.1473, min: 0.0000, mean: 0.4850, var: 0.1240\n",
      "class: automobile, max: 2.0965, min: 0.0000, mean: 0.5140, var: 0.1117\n",
      "class: bird, max: 2.2381, min: 0.0000, mean: 0.5919, var: 0.1559\n",
      "class: cat, max: 1.9342, min: 0.0000, mean: 0.5090, var: 0.1045\n",
      "class: deer, max: 2.1173, min: 0.0000, mean: 0.5288, var: 0.1503\n",
      "class: dog, max: 1.9817, min: 0.0000, mean: 0.4760, var: 0.0917\n",
      "class: frog, max: 1.8409, min: 0.0000, mean: 0.4182, var: 0.1017\n",
      "class: horse, max: 1.8475, min: 0.0000, mean: 0.4639, var: 0.0878\n",
      "class: ship, max: 2.1809, min: 0.0000, mean: 0.4466, var: 0.0937\n",
      "class: truck, max: 1.9647, min: 0.0000, mean: 0.4694, var: 0.0929\n",
      "Overall Macro Mean: 0.4902857919222249\n"
     ]
    }
   ],
   "source": [
    "print(\"#####################################\")\n",
    "print(\"## Calculating Chebyshev Distance ###\")\n",
    "print(\"#####################################\")\n",
    "\n",
    "dist = DistanceMetric.get_metric('chebyshev')\n",
    "total_macro_mean = 0.0\n",
    "for i in range(len(latent_vectors)):\n",
    "    chebyshev = dist.pairwise(np.array(latent_vectors[i]))\n",
    "    total_macro_mean += np.mean(chebyshev)\n",
    "    print(f\"class: {classes[i]}, max: {np.max(chebyshev):.4f}, min: {np.min(chebyshev):.4f}, mean: {np.mean(chebyshev):.4f}, var: {np.var(chebyshev):.4f}\")\n",
    "print(\"Overall Macro Mean:\", total_macro_mean / len(latent_vectors))"
   ]
  }
 ],
 "metadata": {
  "kernelspec": {
   "display_name": "test",
   "language": "python",
   "name": "python3"
  },
  "language_info": {
   "codemirror_mode": {
    "name": "ipython",
    "version": 3
   },
   "file_extension": ".py",
   "mimetype": "text/x-python",
   "name": "python",
   "nbconvert_exporter": "python",
   "pygments_lexer": "ipython3",
   "version": "3.7.13"
  },
  "orig_nbformat": 4
 },
 "nbformat": 4,
 "nbformat_minor": 2
}
