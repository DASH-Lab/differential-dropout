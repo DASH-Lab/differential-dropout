{
 "cells": [
  {
   "cell_type": "code",
   "execution_count": null,
   "metadata": {},
   "outputs": [],
   "source": [
    "import torch\n",
    "import torch.nn as nn\n",
    "from torch.utils.data import DataLoader\n",
    "import torchvision\n",
    "import torchvision.transforms as transforms\n",
    "import numpy as np\n",
    "import matplotlib.pyplot as plt\n",
    "from sklearn.metrics.pairwise import cosine_similarity\n",
    "from sklearn.metrics import DistanceMetric\n",
    "import os\n",
    "import sys\n",
    "sys.path.append('../models')\n",
    "import ResNet as resnet\n",
    "import EfficientNet as efficientnet\n",
    "import ViT as vit"
   ]
  },
  {
   "cell_type": "code",
   "execution_count": null,
   "metadata": {},
   "outputs": [],
   "source": [
    "os.environ[\"CUDA_DEVICE_ORDER\"] = \"PCI_BUS_ID\"\n",
    "os.environ[\"CUDA_VISIBLE_DEVICES\"] = \"2, 3\"\n",
    "\n",
    "device = torch.device('cuda' if torch.cuda.is_available() else 'cpu')"
   ]
  },
  {
   "cell_type": "code",
   "execution_count": null,
   "metadata": {},
   "outputs": [],
   "source": [
    "##########################################\n",
    "######### Configure Metric Setting ####### \n",
    "##########################################\n",
    "batch_size = 64\n",
    "weight_path = './weights/baseline/dp-sgd/cifar10_dpsgd_resnet18_100.pt'\n",
    "model = torch.load(weight_path)\n",
    "criterion = nn.CrossEntropyLoss()\n",
    "member_path = '/media/data1/hyunjun/cifar-10/train/'\n",
    "nonmember_path = '/media/data1/hyunjun/cifar-10/test/'\n",
    "data = 'Cifar-10'\n",
    "##########################################\n",
    "##########################################"
   ]
  },
  {
   "cell_type": "code",
   "execution_count": null,
   "metadata": {},
   "outputs": [],
   "source": [
    "mean, std = (0.485, 0.456, 0.406), (0.229, 0.224, 0.225) \n",
    "if data == 'Cifar-10':\n",
    "    mean, std = (0.491, 0.482, 0.447), (0.247, 0.243, 0.262)\n",
    "elif data == 'CelebA':\n",
    "    mean, std = (0.5, 0.5, 0.5), (0.5, 0.5, 0.5)\n",
    "\n",
    "trans = transforms.Compose([\n",
    "    transforms.Resize((224, 224)),\n",
    "    transforms.ToTensor(),\n",
    "    transforms.Normalize(mean, std),\n",
    "])\n",
    "\n",
    "model.to(device)\n",
    "model.eval()\n",
    "\n",
    "nonmember_set = torchvision.datasets.ImageFolder(root=nonmember_path, transform=trans)\n",
    "nonmember_loader = DataLoader(nonmember_set, batch_size=batch_size, shuffle=True, drop_last=False,)\n",
    "member_set = torchvision.datasets.ImageFolder(root=member_path, transform=trans)\n",
    "member_loader = DataLoader(member_set, batch_size=batch_size, shuffle=True, drop_last=False,)\n",
    "\n",
    "classes = member_set.classes"
   ]
  },
  {
   "cell_type": "code",
   "execution_count": null,
   "metadata": {},
   "outputs": [],
   "source": [
    "latent_vectors = [[] for _ in range(len(classes))]\n",
    "\n",
    "model.eval()\n",
    "with torch.no_grad():\n",
    "    for data in member_loader:\n",
    "        images, labels = data[0].to(device), data[1].to(device)\n",
    "        features, _ = model(images)\n",
    "\n",
    "        deep_features = features.cpu().numpy().tolist()\n",
    "        actual = labels.cpu().numpy().tolist()\n",
    "        \n",
    "        for i in range(len(actual)):\n",
    "            latent_vectors[actual[i]].append(list(deep_features[i]))\n",
    "            \n",
    "    for data in nonmember_loader:\n",
    "        images, labels = data[0].to(device), data[1].to(device)\n",
    "        features, _ = model(images)\n",
    "\n",
    "        deep_features = features.cpu().numpy().tolist()\n",
    "        actual = labels.cpu().numpy().tolist()\n",
    "        \n",
    "        for i in range(len(actual)):\n",
    "            latent_vectors[actual[i]].append(list(deep_features[i]))"
   ]
  },
  {
   "cell_type": "code",
   "execution_count": null,
   "metadata": {},
   "outputs": [],
   "source": [
    "print(\"#####################################\")\n",
    "print(\"### Calculating Cosine Similarity ###\")\n",
    "print(\"#####################################\")\n",
    "\n",
    "total_macro_mean = 0.0\n",
    "for i in range(len(latent_vectors)):\n",
    "    cssm = cosine_similarity(np.array(latent_vectors[i]))\n",
    "    total_macro_mean += np.mean(cssm)\n",
    "    print(f\"class: {classes[i]}, max: {np.max(cssm):.4f}, min: {np.min(cssm):.4f}, mean: {np.mean(cssm):.4f}, var: {np.var(cssm):.4f}\")\n",
    "print(\"Overall Macro Mean:\", total_macro_mean / len(latent_vectors))"
   ]
  },
  {
   "cell_type": "code",
   "execution_count": null,
   "metadata": {},
   "outputs": [],
   "source": [
    "print(\"#####################################\")\n",
    "print(\"## Calculating Euclidean Distance ###\")\n",
    "print(\"#####################################\")\n",
    "\n",
    "dist = DistanceMetric.get_metric('euclidean')\n",
    "total_macro_mean = 0.0\n",
    "for i in range(len(latent_vectors)):\n",
    "    euclidean = dist.pairwise(np.array(latent_vectors[i]))\n",
    "    total_macro_mean += np.mean(euclidean)\n",
    "    print(f\"class: {classes[i]}, max: {np.max(euclidean):.4f}, min: {np.min(euclidean):.4f}, mean: {np.mean(euclidean):.4f}, var: {np.var(euclidean):.4f}\")\n",
    "print(\"Overall Macro Mean:\", total_macro_mean / len(latent_vectors))"
   ]
  },
  {
   "cell_type": "code",
   "execution_count": null,
   "metadata": {},
   "outputs": [],
   "source": [
    "print(\"#####################################\")\n",
    "print(\"## Calculating Manhattan Distance ###\")\n",
    "print(\"#####################################\")\n",
    "\n",
    "dist = DistanceMetric.get_metric('manhattan')\n",
    "total_macro_mean = 0.0\n",
    "for i in range(len(latent_vectors)):\n",
    "    manhattan = dist.pairwise(np.array(latent_vectors[i]))\n",
    "    total_macro_mean += np.mean(manhattan)\n",
    "    print(f\"class: {classes[i]}, max: {np.max(manhattan):.4f}, min: {np.min(manhattan):.4f}, mean: {np.mean(manhattan):.4f}, var: {np.var(manhattan):.4f}\")\n",
    "print(\"Overall Macro Mean:\", total_macro_mean / len(latent_vectors))"
   ]
  },
  {
   "cell_type": "code",
   "execution_count": null,
   "metadata": {},
   "outputs": [],
   "source": [
    "print(\"#####################################\")\n",
    "print(\"## Calculating Chebyshev Distance ###\")\n",
    "print(\"#####################################\")\n",
    "\n",
    "dist = DistanceMetric.get_metric('chebyshev')\n",
    "total_macro_mean = 0.0\n",
    "for i in range(len(latent_vectors)):\n",
    "    chebyshev = dist.pairwise(np.array(latent_vectors[i]))\n",
    "    total_macro_mean += np.mean(chebyshev)\n",
    "    print(f\"class: {classes[i]}, max: {np.max(chebyshev):.4f}, min: {np.min(chebyshev):.4f}, mean: {np.mean(chebyshev):.4f}, var: {np.var(chebyshev):.4f}\")\n",
    "print(\"Overall Macro Mean:\", total_macro_mean / len(latent_vectors))"
   ]
  }
 ],
 "metadata": {
  "kernelspec": {
   "display_name": "test",
   "language": "python",
   "name": "python3"
  },
  "language_info": {
   "codemirror_mode": {
    "name": "ipython",
    "version": 3
   },
   "file_extension": ".py",
   "mimetype": "text/x-python",
   "name": "python",
   "nbconvert_exporter": "python",
   "pygments_lexer": "ipython3",
   "version": "3.7.13"
  },
  "orig_nbformat": 4
 },
 "nbformat": 4,
 "nbformat_minor": 2
}
