{
 "cells": [
  {
   "cell_type": "code",
   "execution_count": 1,
   "metadata": {},
   "outputs": [],
   "source": [
    "import torch\n",
    "import torch.nn as nn\n",
    "from torch.utils.data import DataLoader, Dataset\n",
    "import torchvision\n",
    "import torchvision.transforms as transforms\n",
    "import numpy as np\n",
    "import matplotlib.pyplot as plt\n",
    "import os\n",
    "from sklearn.metrics import classification_report\n",
    "\n",
    "import sys\n",
    "sys.path.append('../models')\n",
    "import ResNet as resnet\n",
    "import DenseNet as densenet\n",
    "import EfficientNet as efficientnet\n",
    "import MobileNetV2 as mobilenet\n",
    "import ViT as vit"
   ]
  },
  {
   "cell_type": "code",
   "execution_count": 2,
   "metadata": {},
   "outputs": [],
   "source": [
    "os.environ[\"CUDA_DEVICE_ORDER\"] = \"PCI_BUS_ID\"\n",
    "os.environ[\"CUDA_VISIBLE_DEVICES\"] = \"0\"\n",
    "\n",
    "device = torch.device('cuda' if torch.cuda.is_available() else 'cpu')"
   ]
  },
  {
   "cell_type": "code",
   "execution_count": 3,
   "metadata": {},
   "outputs": [],
   "source": [
    "##########################################\n",
    "######### Configure Metric Setting ####### \n",
    "##########################################\n",
    "batch_size = 1\n",
    "weight_path = './weights/cifar10_resnet50_v3.pt'\n",
    "model = torch.load(weight_path)\n",
    "model.eval()\n",
    "criterion = nn.CrossEntropyLoss()\n",
    "member_path = '/media/data1/hyunjun/cifar-10/train/'\n",
    "nonmember_path = '/media/data1/hyunjun/cifar-10/test/'\n",
    "data = 'Cifar-10'\n",
    "##########################################\n",
    "##########################################"
   ]
  },
  {
   "cell_type": "code",
   "execution_count": 4,
   "metadata": {},
   "outputs": [],
   "source": [
    "\n",
    "mean, std = (0.485, 0.456, 0.406), (0.229, 0.224, 0.225) \n",
    "if data == 'STL-10':\n",
    "    mean, std = (0.485, 0.456, 0.406), (0.229, 0.224, 0.225)\n",
    "elif data == 'Cifar-10':\n",
    "    mean, std = (0.491, 0.482, 0.447), (0.247, 0.243, 0.262)\n",
    "elif data == 'CelebA':\n",
    "    mean, std = (0.485, 0.456, 0.406), (0.229, 0.224, 0.225)\n",
    "\n",
    "trans = transforms.Compose([\n",
    "    transforms.Resize((224, 224)),\n",
    "    transforms.ToTensor(),\n",
    "    transforms.Normalize(mean, std),\n",
    "])\n",
    "\n",
    "model.to(device)"
   ]
  },
  {
   "cell_type": "code",
   "execution_count": 5,
   "metadata": {},
   "outputs": [],
   "source": [
    "nonmember_set = torchvision.datasets.ImageFolder(root=nonmember_path, transform=trans)\n",
    "nonmember_loader = DataLoader(nonmember_set, batch_size=batch_size, shuffle=True, drop_last=False,)\n",
    "member_set = torchvision.datasets.ImageFolder(root=member_path, transform=trans)\n",
    "member_loader = DataLoader(member_set, batch_size=batch_size, shuffle=True, drop_last=False,)\n",
    "\n",
    "classes = nonmember_set.classes"
   ]
  },
  {
   "cell_type": "code",
   "execution_count": 6,
   "metadata": {},
   "outputs": [],
   "source": [
    "\n",
    "def random_zeroing(X, factor):\n",
    "    origin = X.numpy()\n",
    "    for i in range(len(origin)):\n",
    "        for j in range(len(origin[i])):\n",
    "            mask = np.random.choice([1.0, 0.0], origin[i][j].shape, p=[1-factor, factor])\n",
    "            origin[i][j] = origin[i][j] * mask\n",
    "    \n",
    "    return torch.Tensor(origin)\n",
    "\n",
    "def label_resistance_loop(dataloader):\n",
    "    model.eval()\n",
    "    \n",
    "    perturbation = []\n",
    "    \n",
    "    with torch.no_grad():\n",
    "        for X, y in dataloader:\n",
    "            perturbation_factor = 0.0\n",
    "            x = random_zeroing(X, perturbation_factor)\n",
    "            initial_pred = None\n",
    "            while(True):\n",
    "                pred = model(x.to(device))\n",
    "                pred = torch.argmax(pred, dim=1)\n",
    "                pred = pred.cpu().numpy()\n",
    "                if initial_pred is None:\n",
    "                    initial_pred = pred[0]\n",
    "                elif initial_pred != pred[0]:\n",
    "                    perturbation.append(perturbation_factor)\n",
    "                    break\n",
    "                else:\n",
    "                    perturbation_factor += 0.05\n",
    "                if perturbation_factor > 1.0:\n",
    "                    break\n",
    "                x = random_zeroing(X, perturbation_factor)\n",
    "                    \n",
    "    return np.array(perturbation)"
   ]
  },
  {
   "cell_type": "code",
   "execution_count": 7,
   "metadata": {},
   "outputs": [
    {
     "name": "stdout",
     "output_type": "stream",
     "text": [
      "#################################\n",
      "## Non-member Label resistance ##\n",
      "#################################\n",
      "#################################\n",
      "#### member Label resistance ####\n",
      "#################################\n"
     ]
    }
   ],
   "source": [
    "print(\"#################################\")\n",
    "print(\"## Non-member Label resistance ##\")\n",
    "print(\"#################################\")\n",
    "non_memeber = label_resistance_loop(nonmember_loader)\n",
    "\n",
    "print(\"#################################\")\n",
    "print(\"#### member Label resistance ####\")\n",
    "print(\"#################################\")\n",
    "memeber = label_resistance_loop(member_loader)"
   ]
  },
  {
   "cell_type": "code",
   "execution_count": 8,
   "metadata": {},
   "outputs": [
    {
     "name": "stdout",
     "output_type": "stream",
     "text": [
      "0.1803257890997666 0.013822049550085227\n",
      "0.19262860407696863 0.012564217014361312\n"
     ]
    },
    {
     "data": {
      "image/png": "[encoded data removed]",
      "text/plain": [
       "<Figure size 432x288 with 1 Axes>"
      ]
     },
     "metadata": {
      "needs_background": "light"
     },
     "output_type": "display_data"
    }
   ],
   "source": [
    "print(np.mean(non_memeber), np.var(non_memeber))\n",
    "\n",
    "uniques, count = np.unique(non_memeber, return_counts=True)\n",
    "count = count / np.sum(count)\n",
    "plt.plot(uniques, count)\n",
    "print(np.mean(memeber), np.var(memeber))\n",
    "\n",
    "uniques, count = np.unique(memeber, return_counts=True)\n",
    "count = count / np.sum(count)\n",
    "plt.plot(uniques, count)\n",
    "plt.show()"
   ]
  }
 ],
 "metadata": {
  "kernelspec": {
   "display_name": "test",
   "language": "python",
   "name": "python3"
  },
  "language_info": {
   "codemirror_mode": {
    "name": "ipython",
    "version": 3
   },
   "file_extension": ".py",
   "mimetype": "text/x-python",
   "name": "python",
   "nbconvert_exporter": "python",
   "pygments_lexer": "ipython3",
   "version": "3.7.13"
  },
  "orig_nbformat": 4
 },
 "nbformat": 4,
 "nbformat_minor": 2
}
