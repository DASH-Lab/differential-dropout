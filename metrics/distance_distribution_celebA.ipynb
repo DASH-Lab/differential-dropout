{
 "cells": [
  {
   "cell_type": "code",
   "execution_count": 1,
   "metadata": {},
   "outputs": [],
   "source": [
    "import torch\n",
    "import torch.nn as nn\n",
    "from torch.utils.data import DataLoader, Dataset\n",
    "import torchvision\n",
    "import torchvision.transforms as transforms\n",
    "import numpy as np\n",
    "import matplotlib.pyplot as plt\n",
    "from sklearn.metrics.pairwise import cosine_similarity\n",
    "from sklearn.metrics import DistanceMetric\n",
    "from scipy.spatial.distance import mahalanobis\n",
    "import os\n",
    "import sys\n",
    "from PIL import Image\n",
    "sys.path.append('../models')\n",
    "import ResNet as resnet\n",
    "import DenseNet as densenet\n",
    "import EfficientNet as efficientnet\n",
    "import MobileNetV2 as mobilenet\n",
    "import ViT as vit\n",
    "\n",
    "import seaborn as sns"
   ]
  },
  {
   "cell_type": "code",
   "execution_count": 2,
   "metadata": {},
   "outputs": [],
   "source": [
    "os.environ[\"CUDA_DEVICE_ORDER\"] = \"PCI_BUS_ID\"\n",
    "os.environ[\"CUDA_VISIBLE_DEVICES\"] = \"2, 3\"\n",
    "\n",
    "device = torch.device('cuda' if torch.cuda.is_available() else 'cpu')"
   ]
  },
  {
   "cell_type": "code",
   "execution_count": 3,
   "metadata": {},
   "outputs": [],
   "source": [
    "##########################################\n",
    "######### Configure Metric Setting ####### \n",
    "##########################################\n",
    "batch_size = 64\n",
    "weight_path = './weights/celebAHQ_all_resnet18_nothing.pt'\n",
    "model_base = torch.load(weight_path)\n",
    "weight_path = './weights/celebAHQ_all_resnet18_v3.pt'\n",
    "model_private = torch.load(weight_path)\n",
    "criterion = nn.CrossEntropyLoss()\n",
    "dataset_path = \"/media/data2/data/CelebAMask-HQ/CelebA-HQ-img/\"\n",
    "annotation_path = \"/media/data2/data/CelebAMask-HQ/CelebAMask-HQ-attribute-anno.txt\"\n",
    "data = 'CelebA'\n",
    "##########################################\n",
    "##########################################"
   ]
  },
  {
   "cell_type": "code",
   "execution_count": 4,
   "metadata": {},
   "outputs": [],
   "source": [
    "class CelebA(Dataset):\n",
    "    def __init__(self, root, annotation_path, transform=None):\n",
    "        self.transform = transform\n",
    "        self.root_dir = root\n",
    "        self.classes = [\n",
    "            \"Female, Not smiling, Young\", \"Female, Not smiling, Old\", \n",
    "            \"Female, Smiling, Young\", \"Female, Smiling, Old\", \n",
    "            \"Male, Not smiling, Young\", \"Male, Not smiling, Old\", \n",
    "            \"Male, Smiling, Young\", \"Male, Smiling, Old\",\n",
    "        ]\n",
    "        \n",
    "        self.image_paths = []\n",
    "        self.image_labels = []\n",
    "\n",
    "        anno_file = open(annotation_path, \"r\")\n",
    "        num = int(anno_file.readline())\n",
    "    \n",
    "        line = anno_file.readline()\n",
    "        attributes = list(line[:-1].split(' '))\n",
    "        \n",
    "        sex_index = attributes.index('Male') + 2\n",
    "        smile_index = attributes.index('Smiling') + 2\n",
    "        young_index = attributes.index('Young') + 2\n",
    "        for _ in range(num):\n",
    "            line = anno_file.readline()\n",
    "            record = list(line[:-1].split(' '))\n",
    "            self.image_paths.append(record[0])\n",
    "            if record[sex_index] == \"1\":\n",
    "                if record[smile_index] == \"1\":\n",
    "                    if record[young_index] == \"1\":\n",
    "                        self.image_labels.append(6)\n",
    "                    else:\n",
    "                        self.image_labels.append(7)\n",
    "                else:\n",
    "                    if record[young_index] == \"1\":\n",
    "                        self.image_labels.append(4)\n",
    "                    else:\n",
    "                        self.image_labels.append(5)\n",
    "            else:\n",
    "                if record[smile_index] == \"1\":\n",
    "                    if record[young_index] == \"1\":\n",
    "                        self.image_labels.append(2)\n",
    "                    else:\n",
    "                        self.image_labels.append(3)\n",
    "                else:\n",
    "                    if record[young_index] == \"1\":\n",
    "                        self.image_labels.append(0)\n",
    "                    else:\n",
    "                        self.image_labels.append(1)\n",
    "        anno_file.close()\n",
    "        \n",
    "    def __len__(self):\n",
    "        return len(self.image_paths)\n",
    "    \n",
    "    def __getitem__(self, index):\n",
    "        image_file_path = os.path.join(self.root_dir, self.image_paths[index])\n",
    "        image = Image.open(image_file_path)\n",
    "\n",
    "        label = self.image_labels[index]\n",
    "        \n",
    "        if self.transform is not None:\n",
    "            image = self.transform(image)\n",
    "        \n",
    "        return image, label"
   ]
  },
  {
   "cell_type": "code",
   "execution_count": 5,
   "metadata": {},
   "outputs": [],
   "source": [
    "mean, std = (0.485, 0.456, 0.406), (0.229, 0.224, 0.225) \n",
    "if data == 'STL-10':\n",
    "    mean, std = (0.485, 0.456, 0.406), (0.229, 0.224, 0.225)\n",
    "elif data == 'Cifar-10':\n",
    "    mean, std = (0.491, 0.482, 0.447), (0.247, 0.243, 0.262)\n",
    "elif data == 'CelebA':\n",
    "    mean, std = (0.5, 0.5, 0.5), (0.5, 0.5, 0.5)\n",
    "\n",
    "trans = transforms.Compose([\n",
    "    transforms.Resize((224, 224)),\n",
    "    transforms.ToTensor(),\n",
    "    transforms.Normalize(mean, std),\n",
    "])\n",
    "\n",
    "model_base.to(device)\n",
    "model_base.eval()\n",
    "model_private.to(device)\n",
    "model_private.eval()\n",
    "\n",
    "# nonmember_set = CustomDataset(root_dir=nonmember_path, transform=trans)\n",
    "# nonmember_loader = DataLoader(nonmember_set, batch_size=batch_size, shuffle=True, drop_last=False,)\n",
    "dataset =  CelebA(root=dataset_path, annotation_path=annotation_path, transform=trans)\n",
    "dataloader = DataLoader(dataset, batch_size=batch_size, shuffle=True, drop_last=False, )\n",
    "\n",
    "classes = dataset.classes"
   ]
  },
  {
   "cell_type": "code",
   "execution_count": 6,
   "metadata": {},
   "outputs": [],
   "source": [
    "latent_vectors_base = [[] for _ in range(8)]\n",
    "latent_vectors_private = [[] for _ in range(8)]\n",
    "\n",
    "with torch.no_grad():\n",
    "    for data in dataloader:\n",
    "        images, labels = data[0].to(device), data[1].to(device)\n",
    "        labels = labels.cpu().numpy().tolist()\n",
    "        \n",
    "        features, _ = model_base(images)\n",
    "        features = features.cpu().numpy().tolist()\n",
    "        for i in range(len(labels)):\n",
    "            latent_vectors_base[labels[i]].append(features[i])\n",
    "        \n",
    "        features, _ = model_private(images)\n",
    "        features = features.cpu().numpy().tolist()\n",
    "        for i in range(len(labels)):\n",
    "            latent_vectors_private[labels[i]].append(features[i])"
   ]
  },
  {
   "cell_type": "code",
   "execution_count": 16,
   "metadata": {},
   "outputs": [],
   "source": [
    "target_class = 3"
   ]
  },
  {
   "cell_type": "code",
   "execution_count": 17,
   "metadata": {},
   "outputs": [
    {
     "name": "stdout",
     "output_type": "stream",
     "text": [
      "#####################################\n",
      "### Calculating Cosine Similarity ###\n",
      "#####################################\n",
      "max: 1.0000, min: 0.4253, mean: 0.9510, var: 0.0019\n",
      "max: 1.0000, min: 0.2921, mean: 0.9816, var: 0.0018\n"
     ]
    },
    {
     "name": "stderr",
     "output_type": "stream",
     "text": [
      "/home/hyunjun/anaconda3/envs/test/lib/python3.7/site-packages/ipykernel_launcher.py:9: UserWarning: \n",
      "\n",
      "`distplot` is a deprecated function and will be removed in seaborn v0.14.0.\n",
      "\n",
      "Please adapt your code to use either `displot` (a figure-level function with\n",
      "similar flexibility) or `histplot` (an axes-level function for histograms).\n",
      "\n",
      "For a guide to updating your code to use the new functions, please see\n",
      "https://gist.github.com/mwaskom/de44147ed2974457ad6372750bbe5751\n",
      "\n",
      "  if __name__ == '__main__':\n",
      "/home/hyunjun/anaconda3/envs/test/lib/python3.7/site-packages/ipykernel_launcher.py:10: UserWarning: \n",
      "\n",
      "`distplot` is a deprecated function and will be removed in seaborn v0.14.0.\n",
      "\n",
      "Please adapt your code to use either `displot` (a figure-level function with\n",
      "similar flexibility) or `histplot` (an axes-level function for histograms).\n",
      "\n",
      "For a guide to updating your code to use the new functions, please see\n",
      "https://gist.github.com/mwaskom/de44147ed2974457ad6372750bbe5751\n",
      "\n",
      "  # Remove the CWD from sys.path while we load stuff.\n"
     ]
    },
    {
     "data": {
      "image/png": "[encoded data removed]",
      "text/plain": [
       "<Figure size 432x288 with 1 Axes>"
      ]
     },
     "metadata": {
      "needs_background": "light"
     },
     "output_type": "display_data"
    }
   ],
   "source": [
    "print(\"#####################################\")\n",
    "print(\"### Calculating Cosine Similarity ###\")\n",
    "print(\"#####################################\")\n",
    "cssm_base = cosine_similarity(np.array(latent_vectors_base[target_class]))\n",
    "print(f\"max: {np.max(cssm_base):.4f}, min: {np.min(cssm_base):.4f}, mean: {np.mean(cssm_base):.4f}, var: {np.var(cssm_base):.4f}\")\n",
    "cssm_private = cosine_similarity(np.array(latent_vectors_private[target_class]))\n",
    "print(f\"max: {np.max(cssm_private):.4f}, min: {np.min(cssm_private):.4f}, mean: {np.mean(cssm_private):.4f}, var: {np.var(cssm_private):.4f}\")\n",
    "\n",
    "sns.distplot(cssm_base)\n",
    "sns.distplot(cssm_private)\n",
    "plt.show()"
   ]
  },
  {
   "cell_type": "code",
   "execution_count": 18,
   "metadata": {},
   "outputs": [
    {
     "name": "stdout",
     "output_type": "stream",
     "text": [
      "#####################################\n",
      "## Calculating Euclidean Distance ###\n",
      "#####################################\n",
      "max: 52.6287, min: 0.0000, mean: 12.5889, var: 25.3945\n",
      "max: 9.0268, min: 0.0000, mean: 1.9927, var: 1.6364\n"
     ]
    },
    {
     "name": "stderr",
     "output_type": "stream",
     "text": [
      "/home/hyunjun/anaconda3/envs/test/lib/python3.7/site-packages/ipykernel_launcher.py:10: UserWarning: \n",
      "\n",
      "`distplot` is a deprecated function and will be removed in seaborn v0.14.0.\n",
      "\n",
      "Please adapt your code to use either `displot` (a figure-level function with\n",
      "similar flexibility) or `histplot` (an axes-level function for histograms).\n",
      "\n",
      "For a guide to updating your code to use the new functions, please see\n",
      "https://gist.github.com/mwaskom/de44147ed2974457ad6372750bbe5751\n",
      "\n",
      "  # Remove the CWD from sys.path while we load stuff.\n",
      "/home/hyunjun/anaconda3/envs/test/lib/python3.7/site-packages/ipykernel_launcher.py:11: UserWarning: \n",
      "\n",
      "`distplot` is a deprecated function and will be removed in seaborn v0.14.0.\n",
      "\n",
      "Please adapt your code to use either `displot` (a figure-level function with\n",
      "similar flexibility) or `histplot` (an axes-level function for histograms).\n",
      "\n",
      "For a guide to updating your code to use the new functions, please see\n",
      "https://gist.github.com/mwaskom/de44147ed2974457ad6372750bbe5751\n",
      "\n",
      "  # This is added back by InteractiveShellApp.init_path()\n"
     ]
    },
    {
     "data": {
      "image/png": "[encoded data removed]",
      "text/plain": [
       "<Figure size 432x288 with 1 Axes>"
      ]
     },
     "metadata": {
      "needs_background": "light"
     },
     "output_type": "display_data"
    }
   ],
   "source": [
    "print(\"#####################################\")\n",
    "print(\"## Calculating Euclidean Distance ###\")\n",
    "print(\"#####################################\")\n",
    "dist = DistanceMetric.get_metric('euclidean')\n",
    "euclidean_base = dist.pairwise(np.array(latent_vectors_base[target_class]))\n",
    "print(f\"max: {np.max(euclidean_base):.4f}, min: {np.min(euclidean_base):.4f}, mean: {np.mean(euclidean_base):.4f}, var: {np.var(euclidean_base):.4f}\")\n",
    "euclidean_private = dist.pairwise(np.array(latent_vectors_private[target_class]))\n",
    "print(f\"max: {np.max(euclidean_private):.4f}, min: {np.min(euclidean_private):.4f}, mean: {np.mean(euclidean_private):.4f}, var: {np.var(euclidean_private):.4f}\")\n",
    "\n",
    "sns.distplot(euclidean_base)\n",
    "sns.distplot(euclidean_private)\n",
    "plt.show()"
   ]
  },
  {
   "cell_type": "code",
   "execution_count": 19,
   "metadata": {},
   "outputs": [
    {
     "name": "stdout",
     "output_type": "stream",
     "text": [
      "#####################################\n",
      "## Calculating Manhattan Distance ###\n",
      "#####################################\n",
      "max: 125.0083, min: 0.0000, mean: 30.3193, var: 154.2537\n",
      "max: 24.3042, min: 0.0000, mean: 5.1864, var: 11.7983\n"
     ]
    },
    {
     "name": "stderr",
     "output_type": "stream",
     "text": [
      "/home/hyunjun/anaconda3/envs/test/lib/python3.7/site-packages/ipykernel_launcher.py:10: UserWarning: \n",
      "\n",
      "`distplot` is a deprecated function and will be removed in seaborn v0.14.0.\n",
      "\n",
      "Please adapt your code to use either `displot` (a figure-level function with\n",
      "similar flexibility) or `histplot` (an axes-level function for histograms).\n",
      "\n",
      "For a guide to updating your code to use the new functions, please see\n",
      "https://gist.github.com/mwaskom/de44147ed2974457ad6372750bbe5751\n",
      "\n",
      "  # Remove the CWD from sys.path while we load stuff.\n",
      "/home/hyunjun/anaconda3/envs/test/lib/python3.7/site-packages/ipykernel_launcher.py:11: UserWarning: \n",
      "\n",
      "`distplot` is a deprecated function and will be removed in seaborn v0.14.0.\n",
      "\n",
      "Please adapt your code to use either `displot` (a figure-level function with\n",
      "similar flexibility) or `histplot` (an axes-level function for histograms).\n",
      "\n",
      "For a guide to updating your code to use the new functions, please see\n",
      "https://gist.github.com/mwaskom/de44147ed2974457ad6372750bbe5751\n",
      "\n",
      "  # This is added back by InteractiveShellApp.init_path()\n"
     ]
    },
    {
     "data": {
      "image/png": "[encoded data removed]",
      "text/plain": [
       "<Figure size 432x288 with 1 Axes>"
      ]
     },
     "metadata": {
      "needs_background": "light"
     },
     "output_type": "display_data"
    }
   ],
   "source": [
    "print(\"#####################################\")\n",
    "print(\"## Calculating Manhattan Distance ###\")\n",
    "print(\"#####################################\")\n",
    "dist = DistanceMetric.get_metric('manhattan')\n",
    "manhattan_base = dist.pairwise(np.array(latent_vectors_base[target_class]))\n",
    "print(f\"max: {np.max(manhattan_base):.4f}, min: {np.min(manhattan_base):.4f}, mean: {np.mean(manhattan_base):.4f}, var: {np.var(manhattan_base):.4f}\")\n",
    "manhattan_private = dist.pairwise(np.array(latent_vectors_private[target_class]))\n",
    "print(f\"max: {np.max(manhattan_private):.4f}, min: {np.min(manhattan_private):.4f}, mean: {np.mean(manhattan_private):.4f}, var: {np.var(manhattan_private):.4f}\")\n",
    "\n",
    "sns.distplot(manhattan_base)\n",
    "sns.distplot(manhattan_private)\n",
    "plt.show()"
   ]
  },
  {
   "cell_type": "code",
   "execution_count": 20,
   "metadata": {},
   "outputs": [
    {
     "name": "stdout",
     "output_type": "stream",
     "text": [
      "#####################################\n",
      "## Calculating Chebyshev Distance ###\n",
      "#####################################\n",
      "max: 34.0127, min: 0.0000, mean: 7.5867, var: 9.3438\n",
      "max: 4.7805, min: 0.0000, mean: 1.0498, var: 0.4107\n"
     ]
    },
    {
     "name": "stderr",
     "output_type": "stream",
     "text": [
      "/home/hyunjun/anaconda3/envs/test/lib/python3.7/site-packages/ipykernel_launcher.py:10: UserWarning: \n",
      "\n",
      "`distplot` is a deprecated function and will be removed in seaborn v0.14.0.\n",
      "\n",
      "Please adapt your code to use either `displot` (a figure-level function with\n",
      "similar flexibility) or `histplot` (an axes-level function for histograms).\n",
      "\n",
      "For a guide to updating your code to use the new functions, please see\n",
      "https://gist.github.com/mwaskom/de44147ed2974457ad6372750bbe5751\n",
      "\n",
      "  # Remove the CWD from sys.path while we load stuff.\n",
      "/home/hyunjun/anaconda3/envs/test/lib/python3.7/site-packages/ipykernel_launcher.py:11: UserWarning: \n",
      "\n",
      "`distplot` is a deprecated function and will be removed in seaborn v0.14.0.\n",
      "\n",
      "Please adapt your code to use either `displot` (a figure-level function with\n",
      "similar flexibility) or `histplot` (an axes-level function for histograms).\n",
      "\n",
      "For a guide to updating your code to use the new functions, please see\n",
      "https://gist.github.com/mwaskom/de44147ed2974457ad6372750bbe5751\n",
      "\n",
      "  # This is added back by InteractiveShellApp.init_path()\n"
     ]
    },
    {
     "data": {
      "image/png": "[encoded data removed]",
      "text/plain": [
       "<Figure size 432x288 with 1 Axes>"
      ]
     },
     "metadata": {
      "needs_background": "light"
     },
     "output_type": "display_data"
    }
   ],
   "source": [
    "print(\"#####################################\")\n",
    "print(\"## Calculating Chebyshev Distance ###\")\n",
    "print(\"#####################################\")\n",
    "dist = DistanceMetric.get_metric('chebyshev')\n",
    "chebyshev_base = dist.pairwise(np.array(latent_vectors_base[target_class]))\n",
    "print(f\"max: {np.max(chebyshev_base):.4f}, min: {np.min(chebyshev_base):.4f}, mean: {np.mean(chebyshev_base):.4f}, var: {np.var(chebyshev_base):.4f}\")\n",
    "chebyshev_private = dist.pairwise(np.array(latent_vectors_private[target_class]))\n",
    "print(f\"max: {np.max(chebyshev_private):.4f}, min: {np.min(chebyshev_private):.4f}, mean: {np.mean(chebyshev_private):.4f}, var: {np.var(chebyshev_private):.4f}\")\n",
    "\n",
    "sns.distplot(chebyshev_base)\n",
    "sns.distplot(chebyshev_private)\n",
    "plt.show()"
   ]
  }
 ],
 "metadata": {
  "kernelspec": {
   "display_name": "test",
   "language": "python",
   "name": "python3"
  },
  "language_info": {
   "codemirror_mode": {
    "name": "ipython",
    "version": 3
   },
   "file_extension": ".py",
   "mimetype": "text/x-python",
   "name": "python",
   "nbconvert_exporter": "python",
   "pygments_lexer": "ipython3",
   "version": "3.7.13"
  },
  "orig_nbformat": 4
 },
 "nbformat": 4,
 "nbformat_minor": 2
}
